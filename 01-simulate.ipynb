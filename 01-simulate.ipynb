{
 "cells": [
  {
   "cell_type": "markdown",
   "metadata": {},
   "source": [
    "# Step 1: Simulation"
   ]
  },
  {
   "cell_type": "markdown",
   "metadata": {},
   "source": [
    "## a) Run the Monte Carlo simulation\n",
    "The simulations are called from a standalone python file, as they take quite long.\n",
    "It is recommended to run them in a `screen` with\n",
    "\n",
    "```sh\n",
    "nice python 01-simulate.py\n",
    "```\n",
    "\n",
    "Note: Supervise running simulations with \n",
    "```sh\n",
    "while true; do clear; tail -n1 output/*.simu.log | grep '>>>'; sleep 10; done\n",
    "```"
   ]
  },
  {
   "cell_type": "markdown",
   "metadata": {},
   "source": [
    "## b) Check for successful execution"
   ]
  },
  {
   "cell_type": "code",
   "execution_count": 1,
   "metadata": {},
   "outputs": [],
   "source": [
    "distances = [15, 35]\n",
    "doubleplanes = [8, 12, 30]\n",
    "energies = [200, 600, 1000]\n",
    "erels = [100, 500]\n",
    "neutrons = [1, 2, 3, 4, 5, 6]\n",
    "physicss = [\"bert\", \"bic\", \"inclxx\"]\n",
    "scenarios = [\"air\", \"vacuum\"]"
   ]
  },
  {
   "cell_type": "code",
   "execution_count": 6,
   "metadata": {},
   "outputs": [],
   "source": [
    "import pandas as pd\n",
    "import numpy as np\n",
    "import joblib\n",
    "import os\n",
    "import ROOT\n",
    "\n",
    "ROOT.ROOT.EnableThreadSafety()"
   ]
  },
  {
   "cell_type": "code",
   "execution_count": 7,
   "metadata": {},
   "outputs": [],
   "source": [
    "def processed_events(distance, doubleplane, energy, erel, neutron, physics, scenario):\n",
    "    filepattern = \"output/%s-%s/%dm_%ddp_%dAMeV_%dkeV_%dn.%s.root\"\n",
    "    filename = filepattern % (\n",
    "        physics.lower(),\n",
    "        scenario,\n",
    "        distance,\n",
    "        doubleplane,\n",
    "        energy,\n",
    "        erel,\n",
    "        neutron,\n",
    "        \"simu\",\n",
    "    )\n",
    "    if os.path.isfile(filename):\n",
    "        try:\n",
    "            tfile = ROOT.TFile.Open(filename)\n",
    "            ttree = tfile.Get(\"evt\")\n",
    "            num_events = int(ttree.GetEntries())\n",
    "            return (filename, num_events)\n",
    "        except:\n",
    "            pass\n",
    "    return (filename, 0)"
   ]
  },
  {
   "cell_type": "code",
   "execution_count": 8,
   "metadata": {},
   "outputs": [
    {
     "name": "stderr",
     "output_type": "stream",
     "text": [
      "[Parallel(n_jobs=-1)]: Using backend MultiprocessingBackend with 32 concurrent workers.\n",
      "[Parallel(n_jobs=-1)]: Done 136 tasks      | elapsed:    5.4s\n",
      "[Parallel(n_jobs=-1)]: Done 386 tasks      | elapsed:    8.1s\n",
      "[Parallel(n_jobs=-1)]: Done 736 tasks      | elapsed:   12.0s\n",
      "[Parallel(n_jobs=-1)]: Done 1186 tasks      | elapsed:   17.4s\n",
      "[Parallel(n_jobs=-1)]: Done 1296 out of 1296 | elapsed:   19.1s finished\n"
     ]
    }
   ],
   "source": [
    "evts = pd.DataFrame(\n",
    "    joblib.Parallel(n_jobs=-1, backend=\"multiprocessing\", verbose=1)(\n",
    "        joblib.delayed(processed_events)(\n",
    "            distance=distance,\n",
    "            doubleplane=doubleplane,\n",
    "            energy=energy,\n",
    "            erel=erel,\n",
    "            neutron=neutron,\n",
    "            physics=physics,\n",
    "            scenario=scenario,\n",
    "        )\n",
    "        for distance in distances\n",
    "        for energy in energies\n",
    "        for doubleplane in doubleplanes\n",
    "        for neutron in neutrons\n",
    "        for erel in erels\n",
    "        for physics in physicss\n",
    "        for scenario in scenarios\n",
    "    )\n",
    ")"
   ]
  },
  {
   "cell_type": "code",
   "execution_count": 9,
   "metadata": {},
   "outputs": [
    {
     "data": {
      "text/html": [
       "<div>\n",
       "<style scoped>\n",
       "    .dataframe tbody tr th:only-of-type {\n",
       "        vertical-align: middle;\n",
       "    }\n",
       "\n",
       "    .dataframe tbody tr th {\n",
       "        vertical-align: top;\n",
       "    }\n",
       "\n",
       "    .dataframe thead th {\n",
       "        text-align: right;\n",
       "    }\n",
       "</style>\n",
       "<table border=\"1\" class=\"dataframe\">\n",
       "  <thead>\n",
       "    <tr style=\"text-align: right;\">\n",
       "      <th></th>\n",
       "      <th>File</th>\n",
       "      <th>Events</th>\n",
       "    </tr>\n",
       "  </thead>\n",
       "  <tbody>\n",
       "    <tr>\n",
       "      <th>504</th>\n",
       "      <td>output/bert-air/15m_12dp_1000AMeV_100keV_1n.si...</td>\n",
       "      <td>10000</td>\n",
       "    </tr>\n",
       "    <tr>\n",
       "      <th>516</th>\n",
       "      <td>output/bert-air/15m_12dp_1000AMeV_100keV_2n.si...</td>\n",
       "      <td>10000</td>\n",
       "    </tr>\n",
       "    <tr>\n",
       "      <th>...</th>\n",
       "      <td>...</td>\n",
       "      <td>...</td>\n",
       "    </tr>\n",
       "    <tr>\n",
       "      <th>923</th>\n",
       "      <td>output/inclxx-vacuum/35m_8dp_600AMeV_500keV_5n...</td>\n",
       "      <td>10000</td>\n",
       "    </tr>\n",
       "    <tr>\n",
       "      <th>935</th>\n",
       "      <td>output/inclxx-vacuum/35m_8dp_600AMeV_500keV_6n...</td>\n",
       "      <td>10000</td>\n",
       "    </tr>\n",
       "  </tbody>\n",
       "</table>\n",
       "<p>1296 rows × 2 columns</p>\n",
       "</div>"
      ],
      "text/plain": [
       "                                                  File  Events\n",
       "504  output/bert-air/15m_12dp_1000AMeV_100keV_1n.si...   10000\n",
       "516  output/bert-air/15m_12dp_1000AMeV_100keV_2n.si...   10000\n",
       "..                                                 ...     ...\n",
       "923  output/inclxx-vacuum/35m_8dp_600AMeV_500keV_5n...   10000\n",
       "935  output/inclxx-vacuum/35m_8dp_600AMeV_500keV_6n...   10000\n",
       "\n",
       "[1296 rows x 2 columns]"
      ]
     },
     "metadata": {},
     "output_type": "display_data"
    }
   ],
   "source": [
    "pd.options.display.max_rows = 5\n",
    "evts.columns = [\"File\", \"Events\"]\n",
    "evts.sort_values(by=[\"Events\", \"File\"], ascending=[True, True], inplace=True)\n",
    "evts.style.hide_index().format({\"Events\": \"{:d}\"})\n",
    "display(evts)"
   ]
  },
  {
   "cell_type": "code",
   "execution_count": null,
   "metadata": {},
   "outputs": [],
   "source": []
  }
 ],
 "metadata": {
  "kernelspec": {
   "display_name": "Python 3",
   "language": "python",
   "name": "python3"
  },
  "language_info": {
   "codemirror_mode": {
    "name": "ipython",
    "version": 3
   },
   "file_extension": ".py",
   "mimetype": "text/x-python",
   "name": "python",
   "nbconvert_exporter": "python",
   "pygments_lexer": "ipython3",
   "version": "3.7.6"
  }
 },
 "nbformat": 4,
 "nbformat_minor": 4
}
