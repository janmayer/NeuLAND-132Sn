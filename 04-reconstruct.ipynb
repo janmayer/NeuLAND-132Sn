{
 "cells": [
  {
   "cell_type": "markdown",
   "metadata": {},
   "source": [
    "# Step 4: Reconstruction"
   ]
  },
  {
   "cell_type": "code",
   "execution_count": 1,
   "metadata": {},
   "outputs": [],
   "source": [
    "distances = [15, 35]\n",
    "doubleplanes = [8, 12, 20, 30]\n",
    "energies = [200, 600, 1000]\n",
    "erels = [100, 500, 1000]\n",
    "neutrons = [1, 2, 3, 4, 5, 6]\n",
    "physicss = [\"bert\", \"bic\", \"inclxx\"]"
   ]
  },
  {
   "cell_type": "markdown",
   "metadata": {},
   "source": [
    "## a) Reconstruct"
   ]
  },
  {
   "cell_type": "code",
   "execution_count": 2,
   "metadata": {},
   "outputs": [
    {
     "name": "stdout",
     "output_type": "stream",
     "text": [
      "Welcome to JupyROOT 6.16/00\n"
     ]
    },
    {
     "name": "stderr",
     "output_type": "stream",
     "text": [
      "[Parallel(n_jobs=-1)]: Using backend LokyBackend with 56 concurrent workers.\n",
      "[Parallel(n_jobs=-1)]: Done  88 tasks      | elapsed:   41.8s\n",
      "[Parallel(n_jobs=-1)]: Done 338 tasks      | elapsed:  2.3min\n",
      "[Parallel(n_jobs=-1)]: Done 688 tasks      | elapsed:  5.0min\n",
      "[Parallel(n_jobs=-1)]: Done 1138 tasks      | elapsed:  7.9min\n",
      "[Parallel(n_jobs=-1)]: Done 1296 out of 1296 | elapsed: 10.0min finished\n"
     ]
    },
    {
     "name": "stdout",
     "output_type": "stream",
     "text": [
      "Done\n"
     ]
    }
   ],
   "source": [
    "import joblib\n",
    "\n",
    "from reconstruction import reconstruction\n",
    "\n",
    "joblib.Parallel(n_jobs=-1, backend=\"loky\", verbose=1)(\n",
    "    joblib.delayed(reconstruction)(\n",
    "        distance=distance,\n",
    "        doubleplane=doubleplane,\n",
    "        energy=energy,\n",
    "        erel=erel,\n",
    "        neutron=neutron,\n",
    "        physics=physics,\n",
    "    )\n",
    "    for distance in distances\n",
    "    for energy in energies\n",
    "    for doubleplane in doubleplanes\n",
    "    for neutron in neutrons\n",
    "    for erel in erels\n",
    "    for physics in physicss\n",
    ")\n",
    "\n",
    "print(\"Done\")"
   ]
  },
  {
   "cell_type": "markdown",
   "metadata": {},
   "source": [
    "## b) Check reco"
   ]
  },
  {
   "cell_type": "code",
   "execution_count": 3,
   "metadata": {},
   "outputs": [],
   "source": [
    "import os\n",
    "\n",
    "import joblib\n",
    "import numpy as np\n",
    "import pandas as pd\n",
    "import ROOT\n",
    "\n",
    "from helpers import filename_for\n",
    "\n",
    "ROOT.ROOT.EnableThreadSafety()"
   ]
  },
  {
   "cell_type": "code",
   "execution_count": 4,
   "metadata": {},
   "outputs": [],
   "source": [
    "def processed_events(distance, doubleplane, energy, erel, neutron, physics):\n",
    "    filename = filename_for(distance, doubleplane, energy, erel, neutron, physics, \".reco.root\")\n",
    "    if os.path.isfile(filename):\n",
    "        try:\n",
    "            tfile = ROOT.TFile.Open(filename)\n",
    "            ttree = tfile.Get(\"evt\")\n",
    "            num_events = int(ttree.GetEntries())\n",
    "            return (filename, num_events)\n",
    "        except:\n",
    "            pass\n",
    "    return (filename, 0)"
   ]
  },
  {
   "cell_type": "code",
   "execution_count": 5,
   "metadata": {},
   "outputs": [
    {
     "name": "stderr",
     "output_type": "stream",
     "text": [
      "[Parallel(n_jobs=-1)]: Using backend MultiprocessingBackend with 56 concurrent workers.\n",
      "[Parallel(n_jobs=-1)]: Done  88 tasks      | elapsed:    2.5s\n",
      "[Parallel(n_jobs=-1)]: Done 402 tasks      | elapsed:    2.8s\n",
      "[Parallel(n_jobs=-1)]: Done 1136 tasks      | elapsed:    3.2s\n",
      "[Parallel(n_jobs=-1)]: Done 1296 out of 1296 | elapsed:    4.7s finished\n"
     ]
    }
   ],
   "source": [
    "evts = pd.DataFrame(\n",
    "    joblib.Parallel(n_jobs=-1, backend=\"multiprocessing\", verbose=1)(\n",
    "        joblib.delayed(processed_events)(\n",
    "            distance=distance,\n",
    "            doubleplane=doubleplane,\n",
    "            energy=energy,\n",
    "            erel=erel,\n",
    "            neutron=neutron,\n",
    "            physics=physics,\n",
    "        )\n",
    "        for distance in distances\n",
    "        for energy in energies\n",
    "        for doubleplane in doubleplanes\n",
    "        for neutron in neutrons\n",
    "        for erel in erels\n",
    "        for physics in physicss\n",
    "    )\n",
    ")"
   ]
  },
  {
   "cell_type": "code",
   "execution_count": 6,
   "metadata": {},
   "outputs": [
    {
     "data": {
      "text/html": [
       "<div>\n",
       "<style scoped>\n",
       "    .dataframe tbody tr th:only-of-type {\n",
       "        vertical-align: middle;\n",
       "    }\n",
       "\n",
       "    .dataframe tbody tr th {\n",
       "        vertical-align: top;\n",
       "    }\n",
       "\n",
       "    .dataframe thead th {\n",
       "        text-align: right;\n",
       "    }\n",
       "</style>\n",
       "<table border=\"1\" class=\"dataframe\">\n",
       "  <thead>\n",
       "    <tr style=\"text-align: right;\">\n",
       "      <th></th>\n",
       "      <th>File</th>\n",
       "      <th>Events</th>\n",
       "    </tr>\n",
       "  </thead>\n",
       "  <tbody>\n",
       "    <tr>\n",
       "      <th>492</th>\n",
       "      <td>output/bert/15m_12dp_1000AMeV_1000keV_1n.reco....</td>\n",
       "      <td>10000</td>\n",
       "    </tr>\n",
       "    <tr>\n",
       "      <th>501</th>\n",
       "      <td>output/bert/15m_12dp_1000AMeV_1000keV_2n.reco....</td>\n",
       "      <td>10000</td>\n",
       "    </tr>\n",
       "    <tr>\n",
       "      <th>...</th>\n",
       "      <td>...</td>\n",
       "      <td>...</td>\n",
       "    </tr>\n",
       "    <tr>\n",
       "      <th>905</th>\n",
       "      <td>output/inclxx/35m_8dp_600AMeV_500keV_5n.reco.root</td>\n",
       "      <td>10000</td>\n",
       "    </tr>\n",
       "    <tr>\n",
       "      <th>914</th>\n",
       "      <td>output/inclxx/35m_8dp_600AMeV_500keV_6n.reco.root</td>\n",
       "      <td>10000</td>\n",
       "    </tr>\n",
       "  </tbody>\n",
       "</table>\n",
       "<p>1296 rows × 2 columns</p>\n",
       "</div>"
      ],
      "text/plain": [
       "                                                  File  Events\n",
       "492  output/bert/15m_12dp_1000AMeV_1000keV_1n.reco....   10000\n",
       "501  output/bert/15m_12dp_1000AMeV_1000keV_2n.reco....   10000\n",
       "..                                                 ...     ...\n",
       "905  output/inclxx/35m_8dp_600AMeV_500keV_5n.reco.root   10000\n",
       "914  output/inclxx/35m_8dp_600AMeV_500keV_6n.reco.root   10000\n",
       "\n",
       "[1296 rows x 2 columns]"
      ]
     },
     "metadata": {},
     "output_type": "display_data"
    }
   ],
   "source": [
    "pd.options.display.max_rows = 5\n",
    "evts.columns = [\"File\", \"Events\"]\n",
    "evts.sort_values(by=[\"Events\", \"File\"], ascending=[True, True], inplace=True)\n",
    "evts.style.hide_index().format({\"Events\": \"{:d}\"})\n",
    "display(evts)"
   ]
  },
  {
   "cell_type": "markdown",
   "metadata": {},
   "source": [
    "## c) Inspect example file"
   ]
  },
  {
   "cell_type": "code",
   "execution_count": 7,
   "metadata": {},
   "outputs": [],
   "source": [
    "import numpy as np\n",
    "import pandas as pd\n",
    "import ROOT\n",
    "\n",
    "from helpers import filename_for"
   ]
  },
  {
   "cell_type": "code",
   "execution_count": 8,
   "metadata": {},
   "outputs": [],
   "source": [
    "distance = 15\n",
    "doubleplane = 30\n",
    "energy = 600\n",
    "erel = 100\n",
    "neutron = 4\n",
    "physics = \"inclxx\""
   ]
  },
  {
   "cell_type": "code",
   "execution_count": 9,
   "metadata": {},
   "outputs": [
    {
     "name": "stdout",
     "output_type": "stream",
     "text": [
      "TFile**\t\toutput/inclxx/15m_30dp_600AMeV_100keV_4n.reco.root\t\n",
      " TFile*\t\toutput/inclxx/15m_30dp_600AMeV_100keV_4n.reco.root\t\n",
      "  TDirectoryFile*\t\tNeulandNeutronReconstructionMon\tNeulandNeutronReconstructionMon\n",
      "   KEY: TH1D\tfhCountN;2\tNumber of reconstructed Neutrons\n",
      "   KEY: TH1D\tfhCountN;1\tNumber of reconstructed Neutrons\n",
      "   KEY: TH1D\tfhCountNdiff;2\tNumber of reacted primary Neutrons - Number of reconstructed Neutrons\n",
      "   KEY: TH1D\tfhCountNdiff;1\tNumber of reacted primary Neutrons - Number of reconstructed Neutrons\n",
      "   KEY: TH1D\tfhScore;2\tNeuland Neutron Reconstruction Score (lower is better)\n",
      "   KEY: TH1D\tfhScore;1\tNeuland Neutron Reconstruction Score (lower is better)\n",
      "   KEY: TH1D\tfhEdiff;2\tEnergy of primary Neutron - Energy of reconstructed Neutron\n",
      "   KEY: TH1D\tfhEdiff;1\tEnergy of primary Neutron - Energy of reconstructed Neutron\n",
      "   KEY: TH1D\tfhErel;2\tfhErel\n",
      "   KEY: TH1D\tfhErel;1\tfhErel\n",
      "   KEY: TH1D\tfhErelMC;2\tfhErelMC\n",
      "   KEY: TH1D\tfhErelMC;1\tfhErelMC\n",
      "   KEY: TH2D\tfhErelVSnNreco;2\tfhErelVSnNreco\n",
      "   KEY: TH2D\tfhErelVSnNreco;1\tfhErelVSnNreco\n",
      "   KEY: TH2D\tfhErelVSnNrecoNPNIPs;2\tfhErelVSnNrecoNPNIPs\n",
      "   KEY: TH2D\tfhErelVSnNrecoNPNIPs;1\tfhErelVSnNrecoNPNIPs\n",
      "   KEY: TH2D\tfhNreacNreco;2\tfhNreacNreco\n",
      "   KEY: TH2D\tfhNreacNreco;1\tfhNreacNreco\n",
      "   KEY: TH1D\tfhErel0;2\tfhErel0\n",
      "   KEY: TH1D\tfhErel0;1\tfhErel0\n",
      "   KEY: TH1D\tfhErel1;2\tfhErel1\n",
      "   KEY: TH1D\tfhErel1;1\tfhErel1\n",
      "   KEY: TH1D\tfhErel2;2\tfhErel2\n",
      "   KEY: TH1D\tfhErel2;1\tfhErel2\n",
      "   KEY: TH1D\tfhErel3;2\tfhErel3\n",
      "   KEY: TH1D\tfhErel3;1\tfhErel3\n",
      "   KEY: TH1D\tfhErel4;2\tfhErel4\n",
      "   KEY: TH1D\tfhErel4;1\tfhErel4\n",
      "  KEY: TFolder\tcbmout;1\tMain Folder\n",
      "  KEY: TList\tBranchList;1\tDoubly linked list\n",
      "  KEY: TList\tTimeBasedBranchList;1\tDoubly linked list\n",
      "  KEY: FairFileHeader\tFileHeader;1\t\n",
      "  KEY: TDirectoryFile\tNeulandNeutronReconstructionMon;1\tNeulandNeutronReconstructionMon\n",
      "  KEY: TDirectoryFile\tNeulandNeutronReconstructionMonBayes;1\tNeulandNeutronReconstructionMonBayes\n",
      "  KEY: TDirectoryFile\tNeulandNeutronReconstructionMonCheat;1\tNeulandNeutronReconstructionMonCheat\n",
      "  KEY: TTree\tevt;2\t/cbmout\n",
      "  KEY: TTree\tevt;1\t/cbmout\n"
     ]
    }
   ],
   "source": [
    "fn = filename_for(distance, doubleplane, energy, erel, neutron, physics, \".reco.root\")\n",
    "f = ROOT.TFile.Open(fn)\n",
    "f.cd(\"NeulandNeutronReconstructionMon\")\n",
    "f.ls()"
   ]
  },
  {
   "cell_type": "markdown",
   "metadata": {},
   "source": [
    "Workaround for jupyter lab until up-to-date ROOT version is in FairRoot"
   ]
  },
  {
   "cell_type": "code",
   "execution_count": 10,
   "metadata": {},
   "outputs": [
    {
     "data": {
      "application/javascript": [
       "var s = document.createElement('script');\n",
       "s.src='https://cdnjs.cloudflare.com/ajax/libs/require.js/2.3.6/require.min.js';\n",
       "document.body.appendChild(s);\n"
      ],
      "text/plain": [
       "<IPython.core.display.Javascript object>"
      ]
     },
     "metadata": {},
     "output_type": "display_data"
    }
   ],
   "source": [
    "%%javascript\n",
    "var s = document.createElement('script');\n",
    "s.src='https://cdnjs.cloudflare.com/ajax/libs/require.js/2.3.6/require.min.js';\n",
    "document.body.appendChild(s);"
   ]
  },
  {
   "cell_type": "code",
   "execution_count": 11,
   "metadata": {},
   "outputs": [
    {
     "data": {
      "text/html": [
       "\n",
       "<div id=\"root_plot_1\"\n",
       "     style=\"width: 796px; height: 572px\">\n",
       "</div>\n",
       "\n",
       "<script>\n",
       " requirejs.config({\n",
       "     paths: {\n",
       "       'JSRootCore' : 'https://root.cern.ch/js/notebook//scripts/JSRootCore',\n",
       "     }\n",
       "   });\n",
       " require(['JSRootCore'],\n",
       "     function(Core) {\n",
       "       var obj = Core.JSONR_unref({\"_typename\":\"TCanvas\",\"fUniqueID\":0,\"fBits\":53673992,\"fLineColor\":1,\"fLineStyle\":1,\"fLineWidth\":1,\"fFillColor\":0,\"fFillStyle\":1001,\"fLeftMargin\":0.1,\"fRightMargin\":0.1,\"fBottomMargin\":0.1,\"fTopMargin\":0.1,\"fXfile\":2,\"fYfile\":2,\"fAfile\":1,\"fXstat\":0.99,\"fYstat\":0.99,\"fAstat\":2,\"fFrameFillColor\":0,\"fFrameLineColor\":1,\"fFrameFillStyle\":1001,\"fFrameLineStyle\":1,\"fFrameLineWidth\":1,\"fFrameBorderSize\":1,\"fFrameBorderMode\":0,\"fX1\":-625.000046566131,\"fY1\":-12.3375009192154,\"fX2\":5625.00004656613,\"fY2\":111.037500919215,\"fXtoAbsPixelk\":79.6000547445299,\"fXtoPixelk\":79.6000547445299,\"fXtoPixel\":0.127359998102188,\"fYtoAbsPixelk\":514.800046590614,\"fYtoPixelk\":514.800046590614,\"fYtoPixel\":-4.63627146080272,\"fUtoAbsPixelk\":5e-5,\"fUtoPixelk\":5e-5,\"fUtoPixel\":796,\"fVtoAbsPixelk\":572.00005,\"fVtoPixelk\":572,\"fVtoPixel\":-572,\"fAbsPixeltoXk\":-625.000046566131,\"fPixeltoXk\":-625.000046566131,\"fPixeltoX\":7.85175891097018,\"fAbsPixeltoYk\":111.037500919215,\"fPixeltoYk\":-12.3375009192154,\"fPixeltoY\":-0.215690562654599,\"fXlowNDC\":0,\"fYlowNDC\":0,\"fXUpNDC\":0,\"fYUpNDC\":0,\"fWNDC\":1,\"fHNDC\":1,\"fAbsXlowNDC\":0,\"fAbsYlowNDC\":0,\"fAbsWNDC\":1,\"fAbsHNDC\":1,\"fUxmin\":0,\"fUymin\":0,\"fUxmax\":5000,\"fUymax\":98.7,\"fTheta\":30,\"fPhi\":30,\"fAspectRatio\":0,\"fNumber\":0,\"fTickx\":0,\"fTicky\":0,\"fLogx\":0,\"fLogy\":0,\"fLogz\":0,\"fPadPaint\":0,\"fCrosshair\":0,\"fCrosshairPos\":0,\"fBorderSize\":2,\"fBorderMode\":0,\"fModified\":false,\"fGridx\":false,\"fGridy\":false,\"fAbsCoord\":false,\"fEditable\":true,\"fFixedAspectRatio\":false,\"fPrimitives\":{\"_typename\":\"TList\",\"name\":\"TList\",\"arr\":[{\"_typename\":\"TFrame\",\"fUniqueID\":0,\"fBits\":50331656,\"fLineColor\":1,\"fLineStyle\":1,\"fLineWidth\":1,\"fFillColor\":0,\"fFillStyle\":1001,\"fX1\":0,\"fY1\":0,\"fX2\":5000,\"fY2\":98.7,\"fBorderSize\":1,\"fBorderMode\":0},{\"_typename\":\"TH1D\",\"fUniqueID\":0,\"fBits\":50331656,\"fName\":\"fhErel4\",\"fTitle\":\"fhErel4\",\"fLineColor\":602,\"fLineStyle\":1,\"fLineWidth\":1,\"fFillColor\":0,\"fFillStyle\":1001,\"fMarkerColor\":1,\"fMarkerStyle\":1,\"fMarkerSize\":1,\"fNcells\":502,\"fXaxis\":{\"_typename\":\"TAxis\",\"fUniqueID\":0,\"fBits\":50331648,\"fName\":\"xaxis\",\"fTitle\":\"\",\"fNdivisions\":510,\"fAxisColor\":1,\"fLabelColor\":1,\"fLabelFont\":42,\"fLabelOffset\":0.005,\"fLabelSize\":0.035,\"fTickLength\":0.03,\"fTitleOffset\":1,\"fTitleSize\":0.035,\"fTitleColor\":1,\"fTitleFont\":42,\"fNbins\":500,\"fXmin\":0,\"fXmax\":5000,\"fXbins\":[],\"fFirst\":1,\"fLast\":5000,\"fBits2\":0,\"fTimeDisplay\":false,\"fTimeFormat\":\"\",\"fLabels\":null,\"fModLabs\":null},\"fYaxis\":{\"_typename\":\"TAxis\",\"fUniqueID\":0,\"fBits\":50331648,\"fName\":\"yaxis\",\"fTitle\":\"\",\"fNdivisions\":510,\"fAxisColor\":1,\"fLabelColor\":1,\"fLabelFont\":42,\"fLabelOffset\":0.005,\"fLabelSize\":0.035,\"fTickLength\":0.03,\"fTitleOffset\":0,\"fTitleSize\":0.035,\"fTitleColor\":1,\"fTitleFont\":42,\"fNbins\":1,\"fXmin\":0,\"fXmax\":1,\"fXbins\":[],\"fFirst\":0,\"fLast\":0,\"fBits2\":0,\"fTimeDisplay\":false,\"fTimeFormat\":\"\",\"fLabels\":null,\"fModLabs\":null},\"fZaxis\":{\"_typename\":\"TAxis\",\"fUniqueID\":0,\"fBits\":50331648,\"fName\":\"zaxis\",\"fTitle\":\"\",\"fNdivisions\":510,\"fAxisColor\":1,\"fLabelColor\":1,\"fLabelFont\":42,\"fLabelOffset\":0.005,\"fLabelSize\":0.035,\"fTickLength\":0.03,\"fTitleOffset\":1,\"fTitleSize\":0.035,\"fTitleColor\":1,\"fTitleFont\":42,\"fNbins\":1,\"fXmin\":0,\"fXmax\":1,\"fXbins\":[],\"fFirst\":0,\"fLast\":0,\"fBits2\":0,\"fTimeDisplay\":false,\"fTimeFormat\":\"\",\"fLabels\":null,\"fModLabs\":null},\"fBarOffset\":0,\"fBarWidth\":1000,\"fEntries\":7048,\"fTsumw\":6466,\"fTsumw2\":6466,\"fTsumwx\":7075230.79860831,\"fTsumwx2\":15752170784.9602,\"fMaximum\":-1111,\"fMinimum\":-1111,\"fNormFactor\":0,\"fContour\":[],\"fSumw2\":[],\"fOption\":\"\",\"fFunctions\":{\"_typename\":\"TList\",\"name\":\"TList\",\"arr\":[{\"_typename\":\"TPaveStats\",\"fUniqueID\":0,\"fBits\":50331657,\"fLineColor\":1,\"fLineStyle\":1,\"fLineWidth\":1,\"fFillColor\":0,\"fFillStyle\":1001,\"fX1\":4250.00012665987,\"fY1\":83.2781262409408,\"fX2\":5500.00016391278,\"fY2\":103.018126093866,\"fX1NDC\":0.780000016093254,\"fY1NDC\":0.775000005960464,\"fX2NDC\":0.980000019073486,\"fY2NDC\":0.935000002384186,\"fBorderSize\":1,\"fInit\":1,\"fShadowColor\":1,\"fCornerRadius\":0,\"fOption\":\"brNDC\",\"fName\":\"stats\",\"fTextAngle\":0,\"fTextSize\":0,\"fTextAlign\":12,\"fTextColor\":1,\"fTextFont\":42,\"fLabel\":\"\",\"fLongest\":18,\"fMargin\":0.05,\"fLines\":{\"_typename\":\"TList\",\"name\":\"TList\",\"arr\":[{\"_typename\":\"TLatex\",\"fUniqueID\":0,\"fBits\":50331648,\"fName\":\"\",\"fTitle\":\"fhErel4\",\"fTextAngle\":0,\"fTextSize\":0.0368,\"fTextAlign\":0,\"fTextColor\":0,\"fTextFont\":0,\"fX\":0,\"fY\":0,\"fLineColor\":1,\"fLineStyle\":1,\"fLineWidth\":2,\"fLimitFactorSize\":3,\"fOriginSize\":0.0368000008165836},{\"_typename\":\"TLatex\",\"fUniqueID\":0,\"fBits\":50331648,\"fName\":\"\",\"fTitle\":\"Entries = 7048   \",\"fTextAngle\":0,\"fTextSize\":0,\"fTextAlign\":0,\"fTextColor\":0,\"fTextFont\":0,\"fX\":0,\"fY\":0,\"fLineColor\":1,\"fLineStyle\":1,\"fLineWidth\":2,\"fLimitFactorSize\":3,\"fOriginSize\":0.04},{\"_typename\":\"TLatex\",\"fUniqueID\":0,\"fBits\":50331648,\"fName\":\"\",\"fTitle\":\"Mean  =   1094\",\"fTextAngle\":0,\"fTextSize\":0,\"fTextAlign\":0,\"fTextColor\":0,\"fTextFont\":0,\"fX\":0,\"fY\":0,\"fLineColor\":1,\"fLineStyle\":1,\"fLineWidth\":2,\"fLimitFactorSize\":3,\"fOriginSize\":0.04},{\"_typename\":\"TLatex\",\"fUniqueID\":0,\"fBits\":50331648,\"fName\":\"\",\"fTitle\":\"Std Dev   =   1113\",\"fTextAngle\":0,\"fTextSize\":0,\"fTextAlign\":0,\"fTextColor\":0,\"fTextFont\":0,\"fX\":0,\"fY\":0,\"fLineColor\":1,\"fLineStyle\":1,\"fLineWidth\":2,\"fLimitFactorSize\":3,\"fOriginSize\":0.04}],\"opt\":[\"\",\"\",\"\",\"\"]},\"fOptFit\":0,\"fOptStat\":1111,\"fFitFormat\":\"5.4g\",\"fStatFormat\":\"6.4g\",\"fParent\":{\"$ref\":3}}],\"opt\":[\"brNDC\"]},\"fBufferSize\":0,\"fBuffer\":[],\"fBinStatErrOpt\":0,\"fStatOverflows\":2,\"fArray\":[0,0,0,0,1,3,4,8,19,29,45,62,66,73,94,70,92,89,87,85,89,63,85,83,62,79,75,69,72,67,56,77,49,82,50,54,59,56,62,49,47,50,53,51,39,49,45,47,47,48,44,43,44,34,46,26,33,39,35,35,39,28,26,46,25,29,35,35,35,36,33,36,28,38,29,37,18,29,22,35,30,26,22,18,17,18,35,23,32,23,26,24,20,15,22,23,12,22,19,14,16,20,21,21,19,18,22,13,11,14,20,20,20,13,17,14,16,21,10,18,10,16,19,18,16,15,18,18,14,10,19,11,18,18,10,17,7,11,16,9,8,11,8,18,12,8,9,11,12,9,11,13,11,16,10,15,15,17,8,12,17,11,13,8,9,17,8,15,10,10,8,5,13,15,7,8,9,9,7,7,13,7,10,7,4,3,4,6,9,8,7,5,8,6,7,12,8,7,7,2,4,7,7,3,10,15,8,9,10,6,10,8,8,8,8,7,8,7,4,7,6,4,10,7,4,5,10,6,8,4,0,3,8,7,8,5,4,7,7,3,3,6,2,9,4,9,4,5,6,5,3,4,7,3,5,5,6,4,5,4,5,7,6,12,4,6,8,7,3,5,2,4,7,2,6,5,6,4,3,5,9,6,7,5,7,3,1,1,1,5,7,6,7,4,1,7,4,5,5,4,5,3,6,4,1,6,5,3,8,4,4,2,7,4,5,5,5,3,9,3,7,2,2,4,3,6,3,4,5,4,4,3,2,3,2,1,3,3,3,2,5,4,1,5,4,3,1,1,2,6,2,3,5,2,1,4,2,4,3,4,5,4,1,5,2,2,6,1,3,2,2,6,2,3,4,4,7,2,6,3,5,5,3,2,1,2,6,2,3,2,3,3,2,1,2,3,4,5,4,2,4,6,2,2,4,1,3,5,5,0,1,5,1,1,0,6,2,0,6,0,3,4,3,0,2,2,4,3,2,3,2,6,1,1,2,1,2,1,0,1,4,3,3,5,3,2,1,1,1,2,1,1,4,2,2,3,2,2,3,1,4,1,1,2,4,1,2,2,3,2,6,2,4,3,2,2,1,3,2,3,1,1,1,2,2,3,2,0,3,1,2,1,2,2,0,3,1,4,4,1,2,582]},{\"_typename\":\"TPaveText\",\"fUniqueID\":0,\"fBits\":50331657,\"fLineColor\":1,\"fLineStyle\":1,\"fLineWidth\":1,\"fFillColor\":0,\"fFillStyle\":0,\"fX1\":2052.76381243114,\"fY1\":103.635001296094,\"fX2\":2947.23618756886,\"fY2\":110.420626498321,\"fX1NDC\":0.428442211055276,\"fY1NDC\":0.940000003948808,\"fX2NDC\":0.571557788944724,\"fY2NDC\":0.995000004768372,\"fBorderSize\":0,\"fInit\":1,\"fShadowColor\":1,\"fCornerRadius\":0,\"fOption\":\"blNDC\",\"fName\":\"title\",\"fTextAngle\":0,\"fTextSize\":0,\"fTextAlign\":22,\"fTextColor\":1,\"fTextFont\":42,\"fLabel\":\"\",\"fLongest\":7,\"fMargin\":0.05,\"fLines\":{\"_typename\":\"TList\",\"name\":\"TList\",\"arr\":[{\"_typename\":\"TLatex\",\"fUniqueID\":0,\"fBits\":50331648,\"fName\":\"\",\"fTitle\":\"fhErel4\",\"fTextAngle\":0,\"fTextSize\":0,\"fTextAlign\":0,\"fTextColor\":0,\"fTextFont\":0,\"fX\":0,\"fY\":0,\"fLineColor\":1,\"fLineStyle\":1,\"fLineWidth\":2,\"fLimitFactorSize\":3,\"fOriginSize\":0.0467500016093254}],\"opt\":[\"\"]}}],\"opt\":[\"\",\"\",\"blNDC\"]},\"fExecs\":null,\"fName\":\"c1\",\"fTitle\":\"c1\",\"fNumPaletteColor\":0,\"fNextPaletteColor\":0,\"fDISPLAY\":\"$DISPLAY\",\"fDoubleBuffer\":0,\"fRetained\":true,\"fXsizeUser\":0,\"fYsizeUser\":0,\"fXsizeReal\":20,\"fYsizeReal\":15,\"fWindowTopX\":0,\"fWindowTopY\":0,\"fWindowWidth\":0,\"fWindowHeight\":0,\"fCw\":796,\"fCh\":572,\"fCatt\":{\"_typename\":\"TAttCanvas\",\"fXBetween\":2,\"fYBetween\":2,\"fTitleFromTop\":1.2,\"fXdate\":0.2,\"fYdate\":0.3,\"fAdate\":1},\"kMoveOpaque\":true,\"kResizeOpaque\":true,\"fHighLightColor\":2,\"fBatch\":true,\"kShowEventStatus\":false,\"kAutoExec\":true,\"kMenuBar\":true});\n",
       "       Core.draw(\"root_plot_1\", obj, \"\");\n",
       "     }\n",
       " );\n",
       "</script>\n"
      ],
      "text/plain": [
       "<IPython.core.display.HTML object>"
      ]
     },
     "metadata": {},
     "output_type": "display_data"
    }
   ],
   "source": [
    "%jsroot on\n",
    "c1 = ROOT.TCanvas(\"c1\", \"c1\", 800, 600)\n",
    "h1 = f.Get(f\"NeulandNeutronReconstructionMonBayes/fhErel{neutron}\")\n",
    "h1.Rebin(10)\n",
    "h1.Draw()\n",
    "c1.Draw()"
   ]
  },
  {
   "cell_type": "code",
   "execution_count": 12,
   "metadata": {},
   "outputs": [
    {
     "data": {
      "text/html": [
       "\n",
       "<div id=\"root_plot_2\"\n",
       "     style=\"width: 796px; height: 572px\">\n",
       "</div>\n",
       "\n",
       "<script>\n",
       " requirejs.config({\n",
       "     paths: {\n",
       "       'JSRootCore' : 'https://root.cern.ch/js/notebook//scripts/JSRootCore',\n",
       "     }\n",
       "   });\n",
       " require(['JSRootCore'],\n",
       "     function(Core) {\n",
       "       var obj = Core.JSONR_unref({\"_typename\":\"TCanvas\",\"fUniqueID\":0,\"fBits\":53673992,\"fLineColor\":1,\"fLineStyle\":1,\"fLineWidth\":1,\"fFillColor\":0,\"fFillStyle\":1001,\"fLeftMargin\":0.1,\"fRightMargin\":0.1,\"fBottomMargin\":0.1,\"fTopMargin\":0.1,\"fXfile\":2,\"fYfile\":2,\"fAfile\":1,\"fXstat\":0.99,\"fYstat\":0.99,\"fAstat\":2,\"fFrameFillColor\":0,\"fFrameLineColor\":1,\"fFrameFillStyle\":1001,\"fFrameLineStyle\":1,\"fFrameLineWidth\":1,\"fFrameBorderSize\":1,\"fFrameBorderMode\":0,\"fX1\":-625.000046566131,\"fY1\":-670.950049989674,\"fX2\":5625.00004656613,\"fY2\":6038.55004998967,\"fXtoAbsPixelk\":79.6000547445299,\"fXtoPixelk\":79.6000547445299,\"fXtoPixel\":0.127359998102188,\"fYtoAbsPixelk\":514.800046590614,\"fYtoPixelk\":514.800046590614,\"fYtoPixel\":-0.0852522529959811,\"fUtoAbsPixelk\":5e-5,\"fUtoPixelk\":5e-5,\"fUtoPixel\":796,\"fVtoAbsPixelk\":572.00005,\"fVtoPixelk\":572,\"fVtoPixel\":-572,\"fAbsPixeltoXk\":-625.000046566131,\"fPixeltoXk\":-625.000046566131,\"fPixeltoX\":7.85175891097018,\"fAbsPixeltoYk\":6038.55004998967,\"fPixeltoYk\":-670.950049989674,\"fPixeltoY\":-11.7298952796842,\"fXlowNDC\":0,\"fYlowNDC\":0,\"fXUpNDC\":0,\"fYUpNDC\":0,\"fWNDC\":1,\"fHNDC\":1,\"fAbsXlowNDC\":0,\"fAbsYlowNDC\":0,\"fAbsWNDC\":1,\"fAbsHNDC\":1,\"fUxmin\":0,\"fUymin\":0,\"fUxmax\":5000,\"fUymax\":5367.6,\"fTheta\":30,\"fPhi\":30,\"fAspectRatio\":0,\"fNumber\":0,\"fTickx\":0,\"fTicky\":0,\"fLogx\":0,\"fLogy\":0,\"fLogz\":0,\"fPadPaint\":0,\"fCrosshair\":0,\"fCrosshairPos\":0,\"fBorderSize\":2,\"fBorderMode\":0,\"fModified\":false,\"fGridx\":false,\"fGridy\":false,\"fAbsCoord\":false,\"fEditable\":true,\"fFixedAspectRatio\":false,\"fPrimitives\":{\"_typename\":\"TList\",\"name\":\"TList\",\"arr\":[{\"_typename\":\"TFrame\",\"fUniqueID\":0,\"fBits\":50331656,\"fLineColor\":1,\"fLineStyle\":1,\"fLineWidth\":1,\"fFillColor\":0,\"fFillStyle\":1001,\"fX1\":0,\"fY1\":0,\"fX2\":5000,\"fY2\":5367.6,\"fBorderSize\":1,\"fBorderMode\":0},{\"_typename\":\"TH1D\",\"fUniqueID\":0,\"fBits\":50331656,\"fName\":\"fhErelMC\",\"fTitle\":\"fhErelMC\",\"fLineColor\":602,\"fLineStyle\":1,\"fLineWidth\":1,\"fFillColor\":0,\"fFillStyle\":1001,\"fMarkerColor\":1,\"fMarkerStyle\":1,\"fMarkerSize\":1,\"fNcells\":5002,\"fXaxis\":{\"_typename\":\"TAxis\",\"fUniqueID\":0,\"fBits\":50331648,\"fName\":\"xaxis\",\"fTitle\":\"\",\"fNdivisions\":510,\"fAxisColor\":1,\"fLabelColor\":1,\"fLabelFont\":42,\"fLabelOffset\":0.005,\"fLabelSize\":0.035,\"fTickLength\":0.03,\"fTitleOffset\":1,\"fTitleSize\":0.035,\"fTitleColor\":1,\"fTitleFont\":42,\"fNbins\":5000,\"fXmin\":0,\"fXmax\":5000,\"fXbins\":[],\"fFirst\":0,\"fLast\":0,\"fBits2\":0,\"fTimeDisplay\":false,\"fTimeFormat\":\"\",\"fLabels\":null,\"fModLabs\":null},\"fYaxis\":{\"_typename\":\"TAxis\",\"fUniqueID\":0,\"fBits\":50331648,\"fName\":\"yaxis\",\"fTitle\":\"\",\"fNdivisions\":510,\"fAxisColor\":1,\"fLabelColor\":1,\"fLabelFont\":42,\"fLabelOffset\":0.005,\"fLabelSize\":0.035,\"fTickLength\":0.03,\"fTitleOffset\":0,\"fTitleSize\":0.035,\"fTitleColor\":1,\"fTitleFont\":42,\"fNbins\":1,\"fXmin\":0,\"fXmax\":1,\"fXbins\":[],\"fFirst\":0,\"fLast\":0,\"fBits2\":0,\"fTimeDisplay\":false,\"fTimeFormat\":\"\",\"fLabels\":null,\"fModLabs\":null},\"fZaxis\":{\"_typename\":\"TAxis\",\"fUniqueID\":0,\"fBits\":50331648,\"fName\":\"zaxis\",\"fTitle\":\"\",\"fNdivisions\":510,\"fAxisColor\":1,\"fLabelColor\":1,\"fLabelFont\":42,\"fLabelOffset\":0.005,\"fLabelSize\":0.035,\"fTickLength\":0.03,\"fTitleOffset\":1,\"fTitleSize\":0.035,\"fTitleColor\":1,\"fTitleFont\":42,\"fNbins\":1,\"fXmin\":0,\"fXmax\":1,\"fXbins\":[],\"fFirst\":0,\"fLast\":0,\"fBits2\":0,\"fTimeDisplay\":false,\"fTimeFormat\":\"\",\"fLabels\":null,\"fModLabs\":null},\"fBarOffset\":0,\"fBarWidth\":1000,\"fEntries\":10000,\"fTsumw\":10000,\"fTsumw2\":10000,\"fTsumwx\":999995.683292567,\"fTsumwx2\":99999142.3144223,\"fMaximum\":-1111,\"fMinimum\":-1111,\"fNormFactor\":0,\"fContour\":[],\"fSumw2\":[],\"fOption\":\"\",\"fFunctions\":{\"_typename\":\"TList\",\"name\":\"TList\",\"arr\":[{\"_typename\":\"TPaveStats\",\"fUniqueID\":0,\"fBits\":50331657,\"fLineColor\":1,\"fLineStyle\":1,\"fLineWidth\":1,\"fFillColor\":0,\"fFillStyle\":1001,\"fX1\":4250.00012665987,\"fY1\":4528.91256748606,\"fX2\":5500.00016391278,\"fY2\":5602.43255948771,\"fX1NDC\":0.780000016093254,\"fY1NDC\":0.775000005960464,\"fX2NDC\":0.980000019073486,\"fY2NDC\":0.935000002384186,\"fBorderSize\":1,\"fInit\":1,\"fShadowColor\":1,\"fCornerRadius\":0,\"fOption\":\"brNDC\",\"fName\":\"stats\",\"fTextAngle\":0,\"fTextSize\":0,\"fTextAlign\":12,\"fTextColor\":1,\"fTextFont\":42,\"fLabel\":\"\",\"fLongest\":19,\"fMargin\":0.05,\"fLines\":{\"_typename\":\"TList\",\"name\":\"TList\",\"arr\":[{\"_typename\":\"TLatex\",\"fUniqueID\":0,\"fBits\":50331648,\"fName\":\"\",\"fTitle\":\"fhErelMC\",\"fTextAngle\":0,\"fTextSize\":0.0368,\"fTextAlign\":0,\"fTextColor\":0,\"fTextFont\":0,\"fX\":0,\"fY\":0,\"fLineColor\":1,\"fLineStyle\":1,\"fLineWidth\":2,\"fLimitFactorSize\":3,\"fOriginSize\":0.0368000008165836},{\"_typename\":\"TLatex\",\"fUniqueID\":0,\"fBits\":50331648,\"fName\":\"\",\"fTitle\":\"Entries = 10000  \",\"fTextAngle\":0,\"fTextSize\":0,\"fTextAlign\":0,\"fTextColor\":0,\"fTextFont\":0,\"fX\":0,\"fY\":0,\"fLineColor\":1,\"fLineStyle\":1,\"fLineWidth\":2,\"fLimitFactorSize\":3,\"fOriginSize\":0.04},{\"_typename\":\"TLatex\",\"fUniqueID\":0,\"fBits\":50331648,\"fName\":\"\",\"fTitle\":\"Mean  =    100\",\"fTextAngle\":0,\"fTextSize\":0,\"fTextAlign\":0,\"fTextColor\":0,\"fTextFont\":0,\"fX\":0,\"fY\":0,\"fLineColor\":1,\"fLineStyle\":1,\"fLineWidth\":2,\"fLimitFactorSize\":3,\"fOriginSize\":0.04},{\"_typename\":\"TLatex\",\"fUniqueID\":0,\"fBits\":50331648,\"fName\":\"\",\"fTitle\":\"Std Dev   = 0.02378\",\"fTextAngle\":0,\"fTextSize\":0,\"fTextAlign\":0,\"fTextColor\":0,\"fTextFont\":0,\"fX\":0,\"fY\":0,\"fLineColor\":1,\"fLineStyle\":1,\"fLineWidth\":2,\"fLimitFactorSize\":3,\"fOriginSize\":0.04}],\"opt\":[\"\",\"\",\"\",\"\"]},\"fOptFit\":0,\"fOptStat\":1111,\"fFitFormat\":\"5.4g\",\"fStatFormat\":\"6.4g\",\"fParent\":{\"$ref\":3}}],\"opt\":[\"brNDC\"]},\"fBufferSize\":0,\"fBuffer\":[],\"fBinStatErrOpt\":0,\"fStatOverflows\":2,\"fArray\":[0,0,0,0,0,0,0,0,0,0,0,0,0,0,0,0,0,0,0,0,0,0,0,0,0,0,0,0,0,0,0,0,0,0,0,0,0,0,0,0,0,0,0,0,0,0,0,0,0,0,0,0,0,0,0,0,0,0,0,0,0,0,0,0,0,0,0,0,0,0,0,0,0,0,0,0,0,0,0,0,0,0,0,0,0,0,0,0,0,0,0,0,0,0,0,0,0,0,0,0,5112,4888,0,0,0,0,0,0,0,0,0,0,0,0,0,0,0,0,0,0,0,0,0,0,0,0,0,0,0,0,0,0,0,0,0,0,0,0,0,0,0,0,0,0,0,0,0,0,0,0,0,0,0,0,0,0,0,0,0,0,0,0,0,0,0,0,0,0,0,0,0,0,0,0,0,0,0,0,0,0,0,0,0,0,0,0,0,0,0,0,0,0,0,0,0,0,0,0,0,0,0,0,0,0,0,0,0,0,0,0,0,0,0,0,0,0,0,0,0,0,0,0,0,0,0,0,0,0,0,0,0,0,0,0,0,0,0,0,0,0,0,0,0,0,0,0,0,0,0,0,0,0,0,0,0,0,0,0,0,0,0,0,0,0,0,0,0,0,0,0,0,0,0,0,0,0,0,0,0,0,0,0,0,0,0,0,0,0,0,0,0,0,0,0,0,0,0,0,0,0,0,0,0,0,0,0,0,0,0,0,0,0,0,0,0,0,0,0,0,0,0,0,0,0,0,0,0,0,0,0,0,0,0,0,0,0,0,0,0,0,0,0,0,0,0,0,0,0,0,0,0,0,0,0,0,0,0,0,0,0,0,0,0,0,0,0,0,0,0,0,0,0,0,0,0,0,0,0,0,0,0,0,0,0,0,0,0,0,0,0,0,0,0,0,0,0,0,0,0,0,0,0,0,0,0,0,0,0,0,0,0,0,0,0,0,0,0,0,0,0,0,0,0,0,0,0,0,0,0,0,0,0,0,0,0,0,0,0,0,0,0,0,0,0,0,0,0,0,0,0,0,0,0,0,0,0,0,0,0,0,0,0,0,0,0,0,0,0,0,0,0,0,0,0,0,0,0,0,0,0,0,0,0,0,0,0,0,0,0,0,0,0,0,0,0,0,0,0,0,0,0,0,0,0,0,0,0,0,0,0,0,0,0,0,0,0,0,0,0,0,0,0,0,0,0,0,0,0,0,0,0,0,0,0,0,0,0,0,0,0,0,0,0,0,0,0,0,0,0,0,0,0,0,0,0,0,0,0,0,0,0,0,0,0,0,0,0,0,0,0,0,0,0,0,0,0,0,0,0,0,0,0,0,0,0,0,0,0,0,0,0,0,0,0,0,0,0,0,0,0,0,0,0,0,0,0,0,0,0,0,0,0,0,0,0,0,0,0,0,0,0,0,0,0,0,0,0,0,0,0,0,0,0,0,0,0,0,0,0,0,0,0,0,0,0,0,0,0,0,0,0,0,0,0,0,0,0,0,0,0,0,0,0,0,0,0,0,0,0,0,0,0,0,0,0,0,0,0,0,0,0,0,0,0,0,0,0,0,0,0,0,0,0,0,0,0,0,0,0,0,0,0,0,0,0,0,0,0,0,0,0,0,0,0,0,0,0,0,0,0,0,0,0,0,0,0,0,0,0,0,0,0,0,0,0,0,0,0,0,0,0,0,0,0,0,0,0,0,0,0,0,0,0,0,0,0,0,0,0,0,0,0,0,0,0,0,0,0,0,0,0,0,0,0,0,0,0,0,0,0,0,0,0,0,0,0,0,0,0,0,0,0,0,0,0,0,0,0,0,0,0,0,0,0,0,0,0,0,0,0,0,0,0,0,0,0,0,0,0,0,0,0,0,0,0,0,0,0,0,0,0,0,0,0,0,0,0,0,0,0,0,0,0,0,0,0,0,0,0,0,0,0,0,0,0,0,0,0,0,0,0,0,0,0,0,0,0,0,0,0,0,0,0,0,0,0,0,0,0,0,0,0,0,0,0,0,0,0,0,0,0,0,0,0,0,0,0,0,0,0,0,0,0,0,0,0,0,0,0,0,0,0,0,0,0,0,0,0,0,0,0,0,0,0,0,0,0,0,0,0,0,0,0,0,0,0,0,0,0,0,0,0,0,0,0,0,0,0,0,0,0,0,0,0,0,0,0,0,0,0,0,0,0,0,0,0,0,0,0,0,0,0,0,0,0,0,0,0,0,0,0,0,0,0,0,0,0,0,0,0,0,0,0,0,0,0,0,0,0,0,0,0,0,0,0,0,0,0,0,0,0,0,0,0,0,0,0,0,0,0,0,0,0,0,0,0,0,0,0,0,0,0,0,0,0,0,0,0,0,0,0,0,0,0,0,0,0,0,0,0,0,0,0,0,0,0,0,0,0,0,0,0,0,0,0,0,0,0,0,0,0,0,0,0,0,0,0,0,0,0,0,0,0,0,0,0,0,0,0,0,0,0,0,0,0,0,0,0,0,0,0,0,0,0,0,0,0,0,0,0,0,0,0,0,0,0,0,0,0,0,0,0,0,0,0,0,0,0,0,0,0,0,0,0,0,0,0,0,0,0,0,0,0,0,0,0,0,0,0,0,0,0,0,0,0,0,0,0,0,0,0,0,0,0,0,0,0,0,0,0,0,0,0,0,0,0,0,0,0,0,0,0,0,0,0,0,0,0,0,0,0,0,0,0,0,0,0,0,0,0,0,0,0,0,0,0,0,0,0,0,0,0,0,0,0,0,0,0,0,0,0,0,0,0,0,0,0,0,0,0,0,0,0,0,0,0,0,0,0,0,0,0,0,0,0,0,0,0,0,0,0,0,0,0,0,0,0,0,0,0,0,0,0,0,0,0,0,0,0,0,0,0,0,0,0,0,0,0,0,0,0,0,0,0,0,0,0,0,0,0,0,0,0,0,0,0,0,0,0,0,0,0,0,0,0,0,0,0,0,0,0,0,0,0,0,0,0,0,0,0,0,0,0,0,0,0,0,0,0,0,0,0,0,0,0,0,0,0,0,0,0,0,0,0,0,0,0,0,0,0,0,0,0,0,0,0,0,0,0,0,0,0,0,0,0,0,0,0,0,0,0,0,0,0,0,0,0,0,0,0,0,0,0,0,0,0,0,0,0,0,0,0,0,0,0,0,0,0,0,0,0,0,0,0,0,0,0,0,0,0,0,0,0,0,0,0,0,0,0,0,0,0,0,0,0,0,0,0,0,0,0,0,0,0,0,0,0,0,0,0,0,0,0,0,0,0,0,0,0,0,0,0,0,0,0,0,0,0,0,0,0,0,0,0,0,0,0,0,0,0,0,0,0,0,0,0,0,0,0,0,0,0,0,0,0,0,0,0,0,0,0,0,0,0,0,0,0,0,0,0,0,0,0,0,0,0,0,0,0,0,0,0,0,0,0,0,0,0,0,0,0,0,0,0,0,0,0,0,0,0,0,0,0,0,0,0,0,0,0,0,0,0,0,0,0,0,0,0,0,0,0,0,0,0,0,0,0,0,0,0,0,0,0,0,0,0,0,0,0,0,0,0,0,0,0,0,0,0,0,0,0,0,0,0,0,0,0,0,0,0,0,0,0,0,0,0,0,0,0,0,0,0,0,0,0,0,0,0,0,0,0,0,0,0,0,0,0,0,0,0,0,0,0,0,0,0,0,0,0,0,0,0,0,0,0,0,0,0,0,0,0,0,0,0,0,0,0,0,0,0,0,0,0,0,0,0,0,0,0,0,0,0,0,0,0,0,0,0,0,0,0,0,0,0,0,0,0,0,0,0,0,0,0,0,0,0,0,0,0,0,0,0,0,0,0,0,0,0,0,0,0,0,0,0,0,0,0,0,0,0,0,0,0,0,0,0,0,0,0,0,0,0,0,0,0,0,0,0,0,0,0,0,0,0,0,0,0,0,0,0,0,0,0,0,0,0,0,0,0,0,0,0,0,0,0,0,0,0,0,0,0,0,0,0,0,0,0,0,0,0,0,0,0,0,0,0,0,0,0,0,0,0,0,0,0,0,0,0,0,0,0,0,0,0,0,0,0,0,0,0,0,0,0,0,0,0,0,0,0,0,0,0,0,0,0,0,0,0,0,0,0,0,0,0,0,0,0,0,0,0,0,0,0,0,0,0,0,0,0,0,0,0,0,0,0,0,0,0,0,0,0,0,0,0,0,0,0,0,0,0,0,0,0,0,0,0,0,0,0,0,0,0,0,0,0,0,0,0,0,0,0,0,0,0,0,0,0,0,0,0,0,0,0,0,0,0,0,0,0,0,0,0,0,0,0,0,0,0,0,0,0,0,0,0,0,0,0,0,0,0,0,0,0,0,0,0,0,0,0,0,0,0,0,0,0,0,0,0,0,0,0,0,0,0,0,0,0,0,0,0,0,0,0,0,0,0,0,0,0,0,0,0,0,0,0,0,0,0,0,0,0,0,0,0,0,0,0,0,0,0,0,0,0,0,0,0,0,0,0,0,0,0,0,0,0,0,0,0,0,0,0,0,0,0,0,0,0,0,0,0,0,0,0,0,0,0,0,0,0,0,0,0,0,0,0,0,0,0,0,0,0,0,0,0,0,0,0,0,0,0,0,0,0,0,0,0,0,0,0,0,0,0,0,0,0,0,0,0,0,0,0,0,0,0,0,0,0,0,0,0,0,0,0,0,0,0,0,0,0,0,0,0,0,0,0,0,0,0,0,0,0,0,0,0,0,0,0,0,0,0,0,0,0,0,0,0,0,0,0,0,0,0,0,0,0,0,0,0,0,0,0,0,0,0,0,0,0,0,0,0,0,0,0,0,0,0,0,0,0,0,0,0,0,0,0,0,0,0,0,0,0,0,0,0,0,0,0,0,0,0,0,0,0,0,0,0,0,0,0,0,0,0,0,0,0,0,0,0,0,0,0,0,0,0,0,0,0,0,0,0,0,0,0,0,0,0,0,0,0,0,0,0,0,0,0,0,0,0,0,0,0,0,0,0,0,0,0,0,0,0,0,0,0,0,0,0,0,0,0,0,0,0,0,0,0,0,0,0,0,0,0,0,0,0,0,0,0,0,0,0,0,0,0,0,0,0,0,0,0,0,0,0,0,0,0,0,0,0,0,0,0,0,0,0,0,0,0,0,0,0,0,0,0,0,0,0,0,0,0,0,0,0,0,0,0,0,0,0,0,0,0,0,0,0,0,0,0,0,0,0,0,0,0,0,0,0,0,0,0,0,0,0,0,0,0,0,0,0,0,0,0,0,0,0,0,0,0,0,0,0,0,0,0,0,0,0,0,0,0,0,0,0,0,0,0,0,0,0,0,0,0,0,0,0,0,0,0,0,0,0,0,0,0,0,0,0,0,0,0,0,0,0,0,0,0,0,0,0,0,0,0,0,0,0,0,0,0,0,0,0,0,0,0,0,0,0,0,0,0,0,0,0,0,0,0,0,0,0,0,0,0,0,0,0,0,0,0,0,0,0,0,0,0,0,0,0,0,0,0,0,0,0,0,0,0,0,0,0,0,0,0,0,0,0,0,0,0,0,0,0,0,0,0,0,0,0,0,0,0,0,0,0,0,0,0,0,0,0,0,0,0,0,0,0,0,0,0,0,0,0,0,0,0,0,0,0,0,0,0,0,0,0,0,0,0,0,0,0,0,0,0,0,0,0,0,0,0,0,0,0,0,0,0,0,0,0,0,0,0,0,0,0,0,0,0,0,0,0,0,0,0,0,0,0,0,0,0,0,0,0,0,0,0,0,0,0,0,0,0,0,0,0,0,0,0,0,0,0,0,0,0,0,0,0,0,0,0,0,0,0,0,0,0,0,0,0,0,0,0,0,0,0,0,0,0,0,0,0,0,0,0,0,0,0,0,0,0,0,0,0,0,0,0,0,0,0,0,0,0,0,0,0,0,0,0,0,0,0,0,0,0,0,0,0,0,0,0,0,0,0,0,0,0,0,0,0,0,0,0,0,0,0,0,0,0,0,0,0,0,0,0,0,0,0,0,0,0,0,0,0,0,0,0,0,0,0,0,0,0,0,0,0,0,0,0,0,0,0,0,0,0,0,0,0,0,0,0,0,0,0,0,0,0,0,0,0,0,0,0,0,0,0,0,0,0,0,0,0,0,0,0,0,0,0,0,0,0,0,0,0,0,0,0,0,0,0,0,0,0,0,0,0,0,0,0,0,0,0,0,0,0,0,0,0,0,0,0,0,0,0,0,0,0,0,0,0,0,0,0,0,0,0,0,0,0,0,0,0,0,0,0,0,0,0,0,0,0,0,0,0,0,0,0,0,0,0,0,0,0,0,0,0,0,0,0,0,0,0,0,0,0,0,0,0,0,0,0,0,0,0,0,0,0,0,0,0,0,0,0,0,0,0,0,0,0,0,0,0,0,0,0,0,0,0,0,0,0,0,0,0,0,0,0,0,0,0,0,0,0,0,0,0,0,0,0,0,0,0,0,0,0,0,0,0,0,0,0,0,0,0,0,0,0,0,0,0,0,0,0,0,0,0,0,0,0,0,0,0,0,0,0,0,0,0,0,0,0,0,0,0,0,0,0,0,0,0,0,0,0,0,0,0,0,0,0,0,0,0,0,0,0,0,0,0,0,0,0,0,0,0,0,0,0,0,0,0,0,0,0,0,0,0,0,0,0,0,0,0,0,0,0,0,0,0,0,0,0,0,0,0,0,0,0,0,0,0,0,0,0,0,0,0,0,0,0,0,0,0,0,0,0,0,0,0,0,0,0,0,0,0,0,0,0,0,0,0,0,0,0,0,0,0,0,0,0,0,0,0,0,0,0,0,0,0,0,0,0,0,0,0,0,0,0,0,0,0,0,0,0,0,0,0,0,0,0,0,0,0,0,0,0,0,0,0,0,0,0,0,0,0,0,0,0,0,0,0,0,0,0,0,0,0,0,0,0,0,0,0,0,0,0,0,0,0,0,0,0,0,0,0,0,0,0,0,0,0,0,0,0,0,0,0,0,0,0,0,0,0,0,0,0,0,0,0,0,0,0,0,0,0,0,0,0,0,0,0,0,0,0,0,0,0,0,0,0,0,0,0,0,0,0,0,0,0,0,0,0,0,0,0,0,0,0,0,0,0,0,0,0,0,0,0,0,0,0,0,0,0,0,0,0,0,0,0,0,0,0,0,0,0,0,0,0,0,0,0,0,0,0,0,0,0,0,0,0,0,0,0,0,0,0,0,0,0,0,0,0,0,0,0,0,0,0,0,0,0,0,0,0,0,0,0,0,0,0,0,0,0,0,0,0,0,0,0,0,0,0,0,0,0,0,0,0,0,0,0,0,0,0,0,0,0,0,0,0,0,0,0,0,0,0,0,0,0,0,0,0,0,0,0,0,0,0,0,0,0,0,0,0,0,0,0,0,0,0,0,0,0,0,0,0,0,0,0,0,0,0,0,0,0,0,0,0,0,0,0,0,0,0,0,0,0,0,0,0,0,0,0,0,0,0,0,0,0,0,0,0,0,0,0,0,0,0,0,0,0,0,0,0,0,0,0,0,0,0,0,0,0,0,0,0,0,0,0,0,0,0,0,0,0,0,0,0,0,0,0,0,0,0,0,0,0,0,0,0,0,0,0,0,0,0,0,0,0,0,0,0,0,0,0,0,0,0,0,0,0,0,0,0,0,0,0,0,0,0,0,0,0,0,0,0,0,0,0,0,0,0,0,0,0,0,0,0,0,0,0,0,0,0,0,0,0,0,0,0,0,0,0,0,0,0,0,0,0,0,0,0,0,0,0,0,0,0,0,0,0,0,0,0,0,0,0,0,0,0,0,0,0,0,0,0,0,0,0,0,0,0,0,0,0,0,0,0,0,0,0,0,0,0,0,0,0,0,0,0,0,0,0,0,0,0,0,0,0,0,0,0,0,0,0,0,0,0,0,0,0,0,0,0,0,0,0,0,0,0,0,0,0,0,0,0,0,0,0,0,0,0,0,0,0,0,0,0,0,0,0,0,0,0,0,0,0,0,0,0,0,0,0,0,0,0,0,0,0,0,0,0,0,0,0,0,0,0,0,0,0,0,0,0,0,0,0,0,0,0,0,0,0,0,0,0,0,0,0,0,0,0,0,0,0,0,0,0,0,0,0,0,0,0,0,0,0,0,0,0,0,0,0,0,0,0,0,0,0,0,0,0,0,0,0,0,0,0,0,0,0,0,0,0,0,0,0,0,0,0,0,0,0,0,0,0,0,0,0,0,0,0,0,0,0,0,0,0,0,0,0,0,0,0,0,0,0,0,0,0,0,0,0,0,0,0,0,0,0,0,0,0,0,0,0,0,0,0,0,0,0,0,0,0,0,0,0,0,0,0,0,0,0,0,0,0,0,0,0,0,0,0,0,0,0,0,0,0,0,0,0,0,0,0,0,0,0,0,0,0,0,0,0,0,0,0,0,0,0,0,0,0,0,0,0,0,0,0,0,0,0,0,0,0,0,0,0,0,0,0,0,0,0,0,0,0,0,0,0,0,0,0,0,0,0,0,0,0,0,0,0,0,0,0,0,0,0,0,0,0,0,0,0,0,0,0,0,0,0,0,0,0,0,0,0,0,0,0,0,0,0,0,0,0,0,0,0,0,0,0,0,0,0,0,0,0,0,0,0,0,0,0,0,0,0,0,0,0,0,0,0,0,0,0,0,0,0,0,0,0,0,0,0,0,0,0,0,0,0,0,0,0,0,0,0,0,0,0,0,0,0,0,0,0,0,0,0,0,0,0,0,0,0,0,0,0,0,0,0,0,0,0,0,0,0,0,0,0,0,0,0,0,0,0,0,0,0,0,0,0,0,0,0,0,0,0,0,0,0,0,0,0,0,0,0,0,0,0,0,0,0,0,0,0,0,0,0,0,0,0,0,0,0,0,0,0,0,0,0,0,0,0,0,0,0,0,0,0,0,0,0,0,0,0,0,0,0,0,0,0,0,0,0,0,0,0,0,0,0,0,0,0,0,0,0,0,0,0,0,0,0,0,0,0,0,0,0,0,0,0,0,0,0,0,0,0,0,0,0,0,0,0,0,0,0,0,0,0,0,0,0,0,0,0,0,0,0,0,0,0,0,0,0,0,0,0,0,0,0,0,0,0,0,0,0,0,0,0,0,0,0,0,0,0,0,0,0,0,0,0,0,0,0,0,0,0,0,0,0,0,0,0,0,0,0,0,0,0,0,0,0,0,0,0,0,0,0,0,0,0,0,0,0,0,0,0,0,0,0,0,0,0,0,0,0,0,0,0,0,0,0,0,0,0,0,0,0,0,0,0,0,0,0,0,0,0,0,0,0,0,0,0,0,0,0,0,0,0,0,0,0,0,0,0,0,0,0,0,0,0,0,0,0,0,0,0,0,0,0,0,0,0,0,0,0,0,0,0,0,0,0,0,0,0,0,0,0,0,0,0,0,0,0,0,0,0,0,0,0,0,0,0,0,0,0,0,0,0,0,0,0,0,0,0,0,0,0,0,0,0,0,0,0,0,0,0,0,0,0,0,0,0,0,0,0,0,0,0,0,0,0,0,0,0,0,0,0,0,0,0,0,0,0,0,0,0,0,0,0,0,0,0,0,0,0,0,0,0,0,0,0,0,0,0,0,0,0,0,0,0,0,0,0,0,0,0,0,0,0,0,0,0,0,0,0,0,0,0,0,0,0,0,0,0,0,0,0,0,0,0,0,0,0,0,0,0,0,0,0,0,0,0,0,0,0,0,0,0,0,0,0,0,0,0,0,0,0,0,0,0,0,0,0,0,0,0,0,0,0,0,0,0,0,0,0,0,0,0,0,0,0,0,0,0,0,0,0,0,0,0,0,0,0,0,0,0,0,0,0,0,0,0,0,0,0,0,0,0,0,0,0,0,0,0,0,0,0,0,0,0,0,0,0,0,0,0,0,0,0,0,0,0,0,0,0,0,0,0,0,0,0,0,0,0,0,0,0,0,0,0,0,0,0,0,0,0,0,0,0,0,0,0,0,0,0,0,0,0,0,0,0,0,0,0,0,0,0,0,0,0,0,0,0,0,0,0,0,0,0,0,0,0,0,0,0,0,0,0,0,0,0,0,0,0,0,0,0,0,0,0,0,0,0,0,0,0,0,0,0,0,0,0,0,0,0,0,0,0,0,0,0,0,0,0,0,0,0,0,0,0,0,0,0,0,0,0,0,0,0,0,0,0,0,0,0,0,0,0,0,0,0,0,0,0,0,0,0,0,0,0,0,0,0,0,0,0,0,0,0,0,0,0,0,0,0,0,0,0,0,0,0,0,0,0,0,0,0,0,0,0,0,0,0,0,0,0,0,0,0,0,0,0,0,0,0,0,0,0,0,0,0,0,0,0,0,0,0,0,0,0,0,0,0,0,0,0,0,0,0,0,0,0,0,0,0,0,0,0,0,0,0,0,0,0,0,0,0,0,0,0,0,0,0,0,0,0,0,0,0,0,0,0,0,0,0,0,0,0,0,0,0,0,0,0,0,0,0,0,0,0,0,0,0,0,0,0,0,0,0,0,0,0,0,0,0,0,0,0,0,0,0,0,0,0,0,0,0,0,0,0,0,0,0,0,0,0,0,0,0,0,0,0,0,0,0,0,0,0,0,0,0,0,0,0,0,0,0,0,0,0,0,0,0,0,0,0,0,0,0,0,0,0,0,0,0,0,0,0,0,0,0,0,0,0,0,0,0,0,0,0,0,0,0,0,0,0,0,0,0,0,0,0,0,0,0,0,0,0,0,0,0,0,0,0,0,0,0,0,0,0,0,0,0,0,0,0,0,0,0,0,0,0,0,0,0,0,0,0,0,0,0,0,0,0,0,0,0,0,0,0,0,0,0,0,0,0,0,0,0,0,0,0,0,0,0,0,0,0,0,0,0,0,0,0,0,0,0,0,0,0,0,0,0,0,0,0,0,0,0,0,0,0,0,0,0,0,0,0,0,0,0,0,0,0,0,0,0,0,0,0,0,0,0,0,0,0,0,0,0,0,0,0,0,0,0,0,0,0,0,0,0,0,0,0,0,0,0,0,0,0,0,0,0,0,0,0,0,0,0,0,0,0,0,0,0,0,0,0,0,0,0,0,0,0,0,0,0,0,0,0,0,0,0,0,0,0,0,0,0,0,0,0,0,0,0,0,0,0,0,0,0,0,0,0,0,0,0,0,0,0,0,0,0,0,0,0,0,0,0,0,0,0,0,0,0,0,0,0,0,0,0,0,0,0,0,0,0,0,0,0,0,0,0,0,0,0,0]},{\"_typename\":\"TPaveText\",\"fUniqueID\":0,\"fBits\":50331657,\"fLineColor\":1,\"fLineStyle\":1,\"fLineWidth\":1,\"fFillColor\":0,\"fFillStyle\":0,\"fX1\":1938.91330822207,\"fY1\":5635.98007048544,\"fX2\":3061.08669177793,\"fY2\":6005.00258148317,\"fX1NDC\":0.410226130653266,\"fY1NDC\":0.940000003948808,\"fX2NDC\":0.589773869346734,\"fY2NDC\":0.995000004768372,\"fBorderSize\":0,\"fInit\":1,\"fShadowColor\":1,\"fCornerRadius\":0,\"fOption\":\"blNDC\",\"fName\":\"title\",\"fTextAngle\":0,\"fTextSize\":0,\"fTextAlign\":22,\"fTextColor\":1,\"fTextFont\":42,\"fLabel\":\"\",\"fLongest\":8,\"fMargin\":0.05,\"fLines\":{\"_typename\":\"TList\",\"name\":\"TList\",\"arr\":[{\"_typename\":\"TLatex\",\"fUniqueID\":0,\"fBits\":50331648,\"fName\":\"\",\"fTitle\":\"fhErelMC\",\"fTextAngle\":0,\"fTextSize\":0,\"fTextAlign\":0,\"fTextColor\":0,\"fTextFont\":0,\"fX\":0,\"fY\":0,\"fLineColor\":1,\"fLineStyle\":1,\"fLineWidth\":2,\"fLimitFactorSize\":3,\"fOriginSize\":0.0467500016093254}],\"opt\":[\"\"]}}],\"opt\":[\"\",\"\",\"blNDC\"]},\"fExecs\":null,\"fName\":\"c2\",\"fTitle\":\"c2\",\"fNumPaletteColor\":0,\"fNextPaletteColor\":0,\"fDISPLAY\":\"$DISPLAY\",\"fDoubleBuffer\":0,\"fRetained\":true,\"fXsizeUser\":0,\"fYsizeUser\":0,\"fXsizeReal\":20,\"fYsizeReal\":15,\"fWindowTopX\":0,\"fWindowTopY\":0,\"fWindowWidth\":0,\"fWindowHeight\":0,\"fCw\":796,\"fCh\":572,\"fCatt\":{\"_typename\":\"TAttCanvas\",\"fXBetween\":2,\"fYBetween\":2,\"fTitleFromTop\":1.2,\"fXdate\":0.2,\"fYdate\":0.3,\"fAdate\":1},\"kMoveOpaque\":true,\"kResizeOpaque\":true,\"fHighLightColor\":2,\"fBatch\":true,\"kShowEventStatus\":false,\"kAutoExec\":true,\"kMenuBar\":true});\n",
       "       Core.draw(\"root_plot_2\", obj, \"\");\n",
       "     }\n",
       " );\n",
       "</script>\n"
      ],
      "text/plain": [
       "<IPython.core.display.HTML object>"
      ]
     },
     "metadata": {},
     "output_type": "display_data"
    }
   ],
   "source": [
    "%jsroot on\n",
    "c2 = ROOT.TCanvas(\"c2\", \"c2\", 800, 600)\n",
    "h2 = f.Get(\"NeulandNeutronReconstructionMon/fhErelMC\")\n",
    "h2.Draw()\n",
    "c2.Draw()"
   ]
  },
  {
   "cell_type": "markdown",
   "metadata": {},
   "source": [
    "## c) Plot example spectrum with rootpy and matplotlib"
   ]
  },
  {
   "cell_type": "code",
   "execution_count": 13,
   "metadata": {},
   "outputs": [],
   "source": [
    "from helpers import filename_for\n",
    "from plotconfroot import *"
   ]
  },
  {
   "cell_type": "code",
   "execution_count": 14,
   "metadata": {},
   "outputs": [],
   "source": [
    "def fit_n_plot(ax, xmin, xmax, hist, n):\n",
    "    fitresult = hist.Fit(\"gaus\", \"S\", \"\", xmin, xmax)\n",
    "    fun = fitresult.FittedFunction().GetFunction()\n",
    "    xs = np.arange(xmin, xmax, 1)\n",
    "    ys = [fun.Eval(x) for x in xs]\n",
    "\n",
    "    ax.set_xlim(0, erel * 3)\n",
    "    rplt.step(hist, axes=ax, color=\"black\")\n",
    "    ax.plot(xs, ys, color=\"red\")\n",
    "    ax.text(\n",
    "        0.98,\n",
    "        0.9,\n",
    "        fr\"{n}n: $\\sigma$ = {round(fitresult.GetParams()[2])} keV\",\n",
    "        horizontalalignment=\"right\",\n",
    "        verticalalignment=\"center\",\n",
    "        transform=ax.transAxes,\n",
    "        fontsize=25,\n",
    "    )\n",
    "\n",
    "    twosigintegral = hist.Integral(\n",
    "        hist.FindBin(fitresult.GetParams()[1] - 2 * fitresult.GetParams()[2]),\n",
    "        hist.FindBin(fitresult.GetParams()[1] + 2 * fitresult.GetParams()[2]),\n",
    "    )\n",
    "    print(twosigintegral, hist.GetEntries(), twosigintegral / hist.GetEntries())\n",
    "\n",
    "    return fitresult.GetParams()[2]"
   ]
  },
  {
   "cell_type": "code",
   "execution_count": 15,
   "metadata": {},
   "outputs": [
    {
     "name": "stdout",
     "output_type": "stream",
     "text": [
      "Using matplotlib backend: agg\n",
      "7361.0 9146.0 0.8048327137546468\n"
     ]
    },
    {
     "data": {
      "image/png": "[encoded data removed]",
      "text/plain": [
       "<Figure size 622.4x384.672 with 1 Axes>"
      ]
     },
     "metadata": {},
     "output_type": "display_data"
    },
    {
     "name": "stdout",
     "output_type": "stream",
     "text": [
      " FCN=111.486 FROM MIGRAD    STATUS=CONVERGED      62 CALLS          63 TOTAL\n",
      "                     EDM=4.71721e-07    STRATEGY= 1      ERROR MATRIX ACCURATE \n",
      "  EXT PARAMETER                                   STEP         FIRST   \n",
      "  NO.   NAME      VALUE            ERROR          SIZE      DERIVATIVE \n",
      "   1  Constant     2.12392e+02   3.35269e+00   1.28687e-02  -3.49155e-04\n",
      "   2  Mean         1.00936e+02   1.86706e-01   9.57228e-04   2.10952e-03\n",
      "   3  Sigma        1.42265e+01   1.86332e-01   1.76117e-05  -2.29449e-01\n"
     ]
    }
   ],
   "source": [
    "%matplotlib\n",
    "\n",
    "distance = 35\n",
    "doubleplane = 30\n",
    "energy = 600\n",
    "erel = 100\n",
    "neutron = 1\n",
    "physics = \"inclxx\"\n",
    "\n",
    "fn = filename_for(distance, doubleplane, energy, erel, neutron, physics, \".reco.root\")\n",
    "file = rootpy.io.root_open(fn, \"read\")\n",
    "herel = file.Get(f\"NeulandNeutronReconstructionMon/fhErel{neutron}\")\n",
    "\n",
    "fig = plt.figure(figsize=(6.224, 6.224 / 1.618))\n",
    "ax = fig.add_subplot(111)\n",
    "fit_n_plot(ax, 70, 130, herel, neutron)\n",
    "ax.set_xlabel(r\"$E_\\textrm{rel}$ [keV]\", horizontalalignment=\"right\", x=1)\n",
    "ax.set_ylabel(r\"Counts [1/keV]\", horizontalalignment=\"right\", y=1)\n",
    "fig.savefig(f\"results/erel-{neutron}n-{erel}.pdf\", bbox_inches=\"tight\")\n",
    "display(fig)"
   ]
  },
  {
   "cell_type": "code",
   "execution_count": 16,
   "metadata": {},
   "outputs": [
    {
     "name": "stdout",
     "output_type": "stream",
     "text": [
      "Using matplotlib backend: agg\n",
      "2942.0 5923.0 0.4967077494512916\n"
     ]
    },
    {
     "data": {
      "image/png": "[encoded data removed]",
      "text/plain": [
       "<Figure size 622.4x384.672 with 1 Axes>"
      ]
     },
     "metadata": {},
     "output_type": "display_data"
    },
    {
     "name": "stdout",
     "output_type": "stream",
     "text": [
      " FCN=20.8705 FROM MIGRAD    STATUS=CONVERGED      72 CALLS          73 TOTAL\n",
      "                     EDM=2.81368e-08    STRATEGY= 1      ERROR MATRIX ACCURATE \n",
      "  EXT PARAMETER                                   STEP         FIRST   \n",
      "  NO.   NAME      VALUE            ERROR          SIZE      DERIVATIVE \n",
      "   1  Constant     3.67891e+02   9.60987e+00   1.73119e-02  -2.41577e-05\n",
      "   2  Mean         1.16403e+02   9.80489e-01   1.61447e-03  -7.14340e-05\n",
      "   3  Sigma        2.91477e+01   8.12455e-01   1.42942e-05  -1.88645e-02\n"
     ]
    }
   ],
   "source": [
    "%matplotlib\n",
    "\n",
    "distance = 35\n",
    "doubleplane = 30\n",
    "energy = 600\n",
    "erel = 100\n",
    "neutron = 4\n",
    "physics = \"inclxx\"\n",
    "\n",
    "fn = filename_for(distance, doubleplane, energy, erel, neutron, physics, \".reco.root\")\n",
    "file = rootpy.io.root_open(fn, \"read\")\n",
    "herel = file.Get(f\"NeulandNeutronReconstructionMon/fhErel{neutron}\")\n",
    "herel.rebin(10)\n",
    "\n",
    "fig = plt.figure(figsize=(6.224, 6.224 / 1.618))\n",
    "ax = fig.add_subplot(111)\n",
    "ax.set_xlabel(r\"$E_\\textrm{rel}$ [keV]\", horizontalalignment=\"right\", x=1)\n",
    "ax.set_ylabel(r\"Counts [1/10keV]\", horizontalalignment=\"right\", y=1)\n",
    "fit_n_plot(ax, 0, 150, herel, neutron)\n",
    "ax.set_xlim(0, 1000)\n",
    "fig.savefig(f\"results/erel-{neutron}n-{erel}.pdf\", bbox_inches=\"tight\")\n",
    "display(fig)"
   ]
  },
  {
   "cell_type": "markdown",
   "metadata": {},
   "source": [
    "## d) Resolution as a function of relative energy for both distances"
   ]
  },
  {
   "cell_type": "code",
   "execution_count": 20,
   "metadata": {},
   "outputs": [
    {
     "name": "stdout",
     "output_type": "stream",
     "text": [
      "Using matplotlib backend: agg\n",
      "7956.0 9522.0 0.8355387523629489\n",
      "7517.0 9482.0 0.7927652394009702\n",
      "7443.0 9485.0 0.7847127042698998\n",
      "7632.0 9146.0 0.8344631532910562\n",
      "7352.0 9094.0 0.8084451286562568\n",
      "7327.0 8961.0 0.8176542796562883\n"
     ]
    },
    {
     "data": {
      "image/png": "[encoded data removed]",
      "text/plain": [
       "<Figure size 1556x622.4 with 6 Axes>"
      ]
     },
     "metadata": {},
     "output_type": "display_data"
    },
    {
     "name": "stdout",
     "output_type": "stream",
     "text": [
      " FCN=56.0909 FROM MIGRAD    STATUS=CONVERGED      57 CALLS          58 TOTAL\n",
      "                     EDM=8.70609e-07    STRATEGY= 1      ERROR MATRIX ACCURATE \n",
      "  EXT PARAMETER                                   STEP         FIRST   \n",
      "  NO.   NAME      VALUE            ERROR          SIZE      DERIVATIVE \n",
      "   1  Constant     9.77247e+02   1.48671e+01   4.10184e-02   4.88698e-05\n",
      "   2  Mean         1.04932e+02   4.20510e-01   1.51171e-03  -1.51452e-03\n",
      "   3  Sigma        3.26269e+01   4.04408e-01   1.18016e-05  -9.53861e-02\n",
      " FCN=44.7188 FROM MIGRAD    STATUS=CONVERGED      73 CALLS          74 TOTAL\n",
      "                     EDM=9.59358e-09    STRATEGY= 1      ERROR MATRIX ACCURATE \n",
      "  EXT PARAMETER                                   STEP         FIRST   \n",
      "  NO.   NAME      VALUE            ERROR          SIZE      DERIVATIVE \n",
      "   1  Constant     4.36775e+02   7.24612e+00   1.72957e-02   1.17649e-05\n",
      "   2  Mean         5.02896e+02   1.01938e+00   3.36504e-03  -9.79861e-05\n",
      "   3  Sigma        6.92467e+01   1.19498e+00   1.53811e-05   2.07861e-02\n",
      " FCN=81.2152 FROM MIGRAD    STATUS=CONVERGED      68 CALLS          69 TOTAL\n",
      "                     EDM=5.05273e-09    STRATEGY= 1      ERROR MATRIX ACCURATE \n",
      "  EXT PARAMETER                                   STEP         FIRST   \n",
      "  NO.   NAME      VALUE            ERROR          SIZE      DERIVATIVE \n",
      "   1  Constant     3.10223e+02   5.07727e+00   1.62904e-02   2.29889e-06\n",
      "   2  Mean         1.00345e+03   1.38488e+00   6.09740e-03   7.15791e-05\n",
      "   3  Sigma        9.78724e+01   1.55545e+00   1.86129e-05  -3.34569e-03\n",
      " FCN=150.274 FROM MIGRAD    STATUS=CONVERGED      59 CALLS          60 TOTAL\n",
      "                     EDM=4.50975e-08    STRATEGY= 1      ERROR MATRIX ACCURATE \n",
      "  EXT PARAMETER                                   STEP         FIRST   \n",
      "  NO.   NAME      VALUE            ERROR          SIZE      DERIVATIVE \n",
      "   1  Constant     1.00954e+03   1.55974e+01   6.87833e-02  -2.12282e-05\n",
      "   2  Mean         1.01362e+02   1.85119e-01   1.09785e-03  -5.71403e-04\n",
      "   3  Sigma        1.55025e+01   1.75808e-01   1.67681e-05  -1.75759e-02\n",
      " FCN=68.8232 FROM MIGRAD    STATUS=CONVERGED      55 CALLS          56 TOTAL\n",
      "                     EDM=2.31974e-07    STRATEGY= 1      ERROR MATRIX ACCURATE \n",
      "  EXT PARAMETER                                   STEP         FIRST   \n",
      "  NO.   NAME      VALUE            ERROR          SIZE      DERIVATIVE \n",
      "   1  Constant     4.59983e+02   7.29336e+00   2.19012e-02   4.43845e-05\n",
      "   2  Mean         5.01655e+02   4.27311e-01   1.73731e-03   5.47273e-04\n",
      "   3  Sigma        3.29711e+01   4.34244e-01   1.38667e-05  -8.48234e-02\n",
      " FCN=139.797 FROM MIGRAD    STATUS=CONVERGED      65 CALLS          66 TOTAL\n",
      "                     EDM=3.12503e-09    STRATEGY= 1      ERROR MATRIX ACCURATE \n",
      "  EXT PARAMETER                                   STEP         FIRST   \n",
      "  NO.   NAME      VALUE            ERROR          SIZE      DERIVATIVE \n",
      "   1  Constant     3.24798e+02   5.14415e+00   2.18135e-02  -4.57048e-06\n",
      "   2  Mean         1.00175e+03   5.77424e-01   3.32855e-03  -2.11355e-05\n",
      "   3  Sigma        4.65504e+01   5.69646e-01   1.77469e-05   1.46263e-02\n"
     ]
    }
   ],
   "source": [
    "%matplotlib\n",
    "\n",
    "jobs = [\n",
    "    (distance, doubleplane, energy, erel, neutron)\n",
    "    for distance in [15, 35]\n",
    "    for doubleplane in [30]\n",
    "    for energy in [600]\n",
    "    for erel in [\n",
    "        100,\n",
    "        500,\n",
    "        1000,\n",
    "        # 2000, \n",
    "        # 3000,\n",
    "    ]\n",
    "    for neutron in [1]  \n",
    "]\n",
    "\n",
    "fig = plt.figure(figsize=(6.224 * 2.5, 6.224))\n",
    "tmp = []\n",
    "for i, job in enumerate(jobs):\n",
    "    fn = filename_for(job[0], job[1], job[2], job[3], job[4], \"inclxx\", \".reco.root\")\n",
    "    file = rootpy.io.root_open(fn, \"read\")\n",
    "    hist = file.Get(f\"NeulandNeutronReconstructionMon/fhErel{job[4]}\")\n",
    "\n",
    "    if job[0] == 15:\n",
    "        hist.rebin(10)\n",
    "        xmin = 0.88 * job[3] - 60\n",
    "        xmax = 1.12 * job[3] + 60\n",
    "    else:\n",
    "        hist.rebin(5)\n",
    "        xmin = 0.92 * job[3] - 30\n",
    "        xmax = 1.08 * job[3] + 30\n",
    "\n",
    "    ax = fig.add_subplot(2, 5, i + 1)\n",
    "    erel = fit_n_plot(ax, xmin, xmax, hist, 1)\n",
    "\n",
    "    ax.set_xlim(0.5 * xmin, 2 * xmax)\n",
    "\n",
    "    tmp.append([*job, erel])\n",
    "\n",
    "data = pd.DataFrame(tmp)\n",
    "data.columns = [\"distance\", \"doubleplane\", \"energy\", \"erel\", \"neutron\", \"sigma\"]\n",
    "\n",
    "display(fig)"
   ]
  },
  {
   "cell_type": "code",
   "execution_count": 21,
   "metadata": {},
   "outputs": [
    {
     "data": {
      "text/html": [
       "<div>\n",
       "<style scoped>\n",
       "    .dataframe tbody tr th:only-of-type {\n",
       "        vertical-align: middle;\n",
       "    }\n",
       "\n",
       "    .dataframe tbody tr th {\n",
       "        vertical-align: top;\n",
       "    }\n",
       "\n",
       "    .dataframe thead th {\n",
       "        text-align: right;\n",
       "    }\n",
       "</style>\n",
       "<table border=\"1\" class=\"dataframe\">\n",
       "  <thead>\n",
       "    <tr style=\"text-align: right;\">\n",
       "      <th></th>\n",
       "      <th>distance</th>\n",
       "      <th>doubleplane</th>\n",
       "      <th>energy</th>\n",
       "      <th>erel</th>\n",
       "      <th>neutron</th>\n",
       "      <th>sigma</th>\n",
       "    </tr>\n",
       "  </thead>\n",
       "  <tbody>\n",
       "    <tr>\n",
       "      <th>0</th>\n",
       "      <td>15</td>\n",
       "      <td>30</td>\n",
       "      <td>600</td>\n",
       "      <td>100</td>\n",
       "      <td>1</td>\n",
       "      <td>32.626898</td>\n",
       "    </tr>\n",
       "    <tr>\n",
       "      <th>1</th>\n",
       "      <td>15</td>\n",
       "      <td>30</td>\n",
       "      <td>600</td>\n",
       "      <td>500</td>\n",
       "      <td>1</td>\n",
       "      <td>69.246749</td>\n",
       "    </tr>\n",
       "    <tr>\n",
       "      <th>...</th>\n",
       "      <td>...</td>\n",
       "      <td>...</td>\n",
       "      <td>...</td>\n",
       "      <td>...</td>\n",
       "      <td>...</td>\n",
       "      <td>...</td>\n",
       "    </tr>\n",
       "    <tr>\n",
       "      <th>4</th>\n",
       "      <td>35</td>\n",
       "      <td>30</td>\n",
       "      <td>600</td>\n",
       "      <td>500</td>\n",
       "      <td>1</td>\n",
       "      <td>32.971109</td>\n",
       "    </tr>\n",
       "    <tr>\n",
       "      <th>5</th>\n",
       "      <td>35</td>\n",
       "      <td>30</td>\n",
       "      <td>600</td>\n",
       "      <td>1000</td>\n",
       "      <td>1</td>\n",
       "      <td>46.550417</td>\n",
       "    </tr>\n",
       "  </tbody>\n",
       "</table>\n",
       "<p>6 rows × 6 columns</p>\n",
       "</div>"
      ],
      "text/plain": [
       "    distance  doubleplane  energy  erel  neutron      sigma\n",
       "0         15           30     600   100        1  32.626898\n",
       "1         15           30     600   500        1  69.246749\n",
       "..       ...          ...     ...   ...      ...        ...\n",
       "4         35           30     600   500        1  32.971109\n",
       "5         35           30     600  1000        1  46.550417\n",
       "\n",
       "[6 rows x 6 columns]"
      ]
     },
     "metadata": {},
     "output_type": "display_data"
    }
   ],
   "source": [
    "display(data)\n",
    "data.to_pickle(\"results/sigma.pkl\")"
   ]
  },
  {
   "cell_type": "code",
   "execution_count": 22,
   "metadata": {},
   "outputs": [
    {
     "name": "stdout",
     "output_type": "stream",
     "text": [
      "Using matplotlib backend: agg\n"
     ]
    },
    {
     "data": {
      "image/png": "[encoded data removed]",
      "text/plain": [
       "<Figure size 622.4x384.672 with 1 Axes>"
      ]
     },
     "metadata": {},
     "output_type": "display_data"
    }
   ],
   "source": [
    "%matplotlib\n",
    "\n",
    "import numpy as np\n",
    "import pandas as pd\n",
    "import scipy.optimize\n",
    "\n",
    "from plotconfroot import *\n",
    "\n",
    "data = pd.read_pickle(\"results/sigma.pkl\")\n",
    "\n",
    "fig = plt.figure(figsize=(6.224, 6.224 / 1.618))\n",
    "ax = fig.add_subplot(111)\n",
    "ax.set_xlim(0, 3100)\n",
    "ax.set_xlabel(r\"$E_\\textrm{rel}$ [keV]\", horizontalalignment=\"right\", x=1)\n",
    "ax.set_ylim(0, 220)\n",
    "ax.set_ylabel(r\"$\\sigma(E_\\textrm{rel})$ [keV]\", horizontalalignment=\"right\", y=1)\n",
    "\n",
    "\n",
    "def func(x, a, b):\n",
    "    return a * np.sqrt(x) + b\n",
    "\n",
    "\n",
    "for symbol, distance in zip([\"v\", \"^\"], [15, 35]):\n",
    "    tmp = data.loc[data[\"distance\"] == distance]\n",
    "    ax.scatter(tmp[\"erel\"].values, tmp[\"sigma\"].values, label=f\"{distance}\\,m distance target-NeuLAND\", marker=symbol)\n",
    "\n",
    "    fito, fitc = scipy.optimize.curve_fit(func, tmp[\"erel\"].values, tmp[\"sigma\"].values)\n",
    "    xs = np.arange(100, 3100, 50)\n",
    "    ys = func(xs, *fito)\n",
    "    ax.plot(xs, ys)\n",
    "\n",
    "ax.legend(loc=\"upper left\", prop={\"size\": \"x-small\"})\n",
    "fig.tight_layout()\n",
    "fig.savefig(\"results/sigma.pdf\", bbox_inches=\"tight\")\n",
    "display(fig)"
   ]
  },
  {
   "cell_type": "markdown",
   "metadata": {},
   "source": [
    "## e) Other values"
   ]
  },
  {
   "cell_type": "markdown",
   "metadata": {},
   "source": [
    "Basic efficiency"
   ]
  },
  {
   "cell_type": "code",
   "execution_count": 23,
   "metadata": {},
   "outputs": [
    {
     "name": "stdout",
     "output_type": "stream",
     "text": [
      "8 200 0.5685\n",
      "8 600 0.6079\n",
      "8 1000 0.6484\n",
      "12 200 0.7117\n",
      "12 600 0.7559\n",
      "12 1000 0.7888\n",
      "20 200 0.8679\n",
      "20 600 0.8929\n",
      "20 1000 0.9092\n",
      "30 200 0.9319\n",
      "30 600 0.9481\n",
      "30 1000 0.9575\n"
     ]
    }
   ],
   "source": [
    "for doubleplane in doubleplanes:\n",
    "    for energy in energies:\n",
    "        fn = filename_for(\n",
    "            distance=15,\n",
    "            doubleplane=doubleplane,\n",
    "            energy=energy,\n",
    "            erel=500,\n",
    "            neutron=1,\n",
    "            physics=\"inclxx\",\n",
    "            what=\".digi.root\",\n",
    "        )\n",
    "        file = ROOT.TFile.Open(fn)\n",
    "        hist = file.Get(\"NeulandPrimaryClusterMon/nClusters\")\n",
    "        primclus = [hist.GetBinContent(i) for i in range(1, 7)]\n",
    "        print(doubleplane, energy, primclus[1] / hist.GetEntries())"
   ]
  },
  {
   "cell_type": "markdown",
   "metadata": {},
   "source": [
    "Count number of events where a primary neutron undergoes a reaction before entering NeuLAND"
   ]
  },
  {
   "cell_type": "code",
   "execution_count": 24,
   "metadata": {},
   "outputs": [],
   "source": [
    "hists = []\n",
    "tmpprereac = []\n",
    "for energy in energies:\n",
    "    for distance in [15, 35]:\n",
    "        for neutron in [1, 4]:\n",
    "            for physics in [\"inclxx\", \"bic\", \"bert\"]:\n",
    "                fn = filename_for(\n",
    "                    distance=distance,\n",
    "                    doubleplane=30,\n",
    "                    energy=energy,\n",
    "                    erel=500,\n",
    "                    neutron=neutron,\n",
    "                    physics=physics,\n",
    "                    what=\".simu.root\",\n",
    "                )\n",
    "                f = ROOT.TFile.Open(fn)\n",
    "                primary_neutron_track_ids = range(1, neutron + 1)\n",
    "\n",
    "                zse = []\n",
    "                for e in f.evt:\n",
    "                    zs = []\n",
    "                    for i, track in enumerate(e.MCTrack):\n",
    "                        if track.GetStartZ() < 1500 and track.GetMotherId() in primary_neutron_track_ids:\n",
    "                            # print(all, i, track.GetMotherId(), track.GetPdgCode())\n",
    "                            zs.append(track.GetStartZ())\n",
    "                    if len(zs) > 0:\n",
    "                        zse.append(zs)\n",
    "\n",
    "                tmpprereac.append((energy, distance, neutron, physics, len(zse), len(zse) / f.evt.GetEntries()))\n",
    "                flatten = lambda l: [item for sublist in l for item in sublist]\n",
    "                hist = np.histogram(flatten(zse), range=(0, 1500), bins=1500)\n",
    "                hists.append(hist)"
   ]
  },
  {
   "cell_type": "code",
   "execution_count": 25,
   "metadata": {},
   "outputs": [
    {
     "data": {
      "text/html": [
       "<div>\n",
       "<style scoped>\n",
       "    .dataframe tbody tr th:only-of-type {\n",
       "        vertical-align: middle;\n",
       "    }\n",
       "\n",
       "    .dataframe tbody tr th {\n",
       "        vertical-align: top;\n",
       "    }\n",
       "\n",
       "    .dataframe thead th {\n",
       "        text-align: right;\n",
       "    }\n",
       "</style>\n",
       "<table border=\"1\" class=\"dataframe\">\n",
       "  <thead>\n",
       "    <tr style=\"text-align: right;\">\n",
       "      <th></th>\n",
       "      <th>energy</th>\n",
       "      <th>distance</th>\n",
       "      <th>neutron</th>\n",
       "      <th>physics</th>\n",
       "      <th>evts</th>\n",
       "      <th>frac</th>\n",
       "    </tr>\n",
       "  </thead>\n",
       "  <tbody>\n",
       "    <tr>\n",
       "      <th>0</th>\n",
       "      <td>200</td>\n",
       "      <td>15</td>\n",
       "      <td>1</td>\n",
       "      <td>inclxx</td>\n",
       "      <td>351</td>\n",
       "      <td>0.0351</td>\n",
       "    </tr>\n",
       "    <tr>\n",
       "      <th>3</th>\n",
       "      <td>200</td>\n",
       "      <td>15</td>\n",
       "      <td>4</td>\n",
       "      <td>inclxx</td>\n",
       "      <td>1440</td>\n",
       "      <td>0.1440</td>\n",
       "    </tr>\n",
       "    <tr>\n",
       "      <th>...</th>\n",
       "      <td>...</td>\n",
       "      <td>...</td>\n",
       "      <td>...</td>\n",
       "      <td>...</td>\n",
       "      <td>...</td>\n",
       "      <td>...</td>\n",
       "    </tr>\n",
       "    <tr>\n",
       "      <th>24</th>\n",
       "      <td>1000</td>\n",
       "      <td>15</td>\n",
       "      <td>1</td>\n",
       "      <td>inclxx</td>\n",
       "      <td>428</td>\n",
       "      <td>0.0428</td>\n",
       "    </tr>\n",
       "    <tr>\n",
       "      <th>27</th>\n",
       "      <td>1000</td>\n",
       "      <td>15</td>\n",
       "      <td>4</td>\n",
       "      <td>inclxx</td>\n",
       "      <td>1580</td>\n",
       "      <td>0.1580</td>\n",
       "    </tr>\n",
       "  </tbody>\n",
       "</table>\n",
       "<p>6 rows × 6 columns</p>\n",
       "</div>"
      ],
      "text/plain": [
       "    energy  distance  neutron physics  evts    frac\n",
       "0      200        15        1  inclxx   351  0.0351\n",
       "3      200        15        4  inclxx  1440  0.1440\n",
       "..     ...       ...      ...     ...   ...     ...\n",
       "24    1000        15        1  inclxx   428  0.0428\n",
       "27    1000        15        4  inclxx  1580  0.1580\n",
       "\n",
       "[6 rows x 6 columns]"
      ]
     },
     "metadata": {},
     "output_type": "display_data"
    }
   ],
   "source": [
    "prereac = pd.DataFrame(tmpprereac)\n",
    "prereac.columns = [\"energy\", \"distance\", \"neutron\", \"physics\", \"evts\", \"frac\"]\n",
    "display(prereac[(prereac[\"physics\"] == \"inclxx\") & (prereac[\"distance\"] == 15)])"
   ]
  },
  {
   "cell_type": "code",
   "execution_count": 26,
   "metadata": {},
   "outputs": [
    {
     "name": "stdout",
     "output_type": "stream",
     "text": [
      "Using matplotlib backend: agg\n"
     ]
    },
    {
     "data": {
      "image/png": "[encoded data removed]",
      "text/plain": [
       "<Figure size 640x480 with 1 Axes>"
      ]
     },
     "metadata": {},
     "output_type": "display_data"
    }
   ],
   "source": [
    "%matplotlib\n",
    "fig = plt.Figure()\n",
    "ax = fig.add_subplot(111)\n",
    "xs = np.arange(0, 1500)\n",
    "ax.plot(xs, hist[0])\n",
    "ax.set_yscale(\"log\")\n",
    "display(fig)"
   ]
  },
  {
   "cell_type": "code",
   "execution_count": null,
   "metadata": {},
   "outputs": [],
   "source": []
  }
 ],
 "metadata": {
  "kernelspec": {
   "display_name": "Python 3",
   "language": "python",
   "name": "python3"
  },
  "language_info": {
   "codemirror_mode": {
    "name": "ipython",
    "version": 3
   },
   "file_extension": ".py",
   "mimetype": "text/x-python",
   "name": "python",
   "nbconvert_exporter": "python",
   "pygments_lexer": "ipython3",
   "version": "3.7.6"
  }
 },
 "nbformat": 4,
 "nbformat_minor": 4
}
