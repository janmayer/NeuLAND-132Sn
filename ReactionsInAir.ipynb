{
 "cells": [
  {
   "cell_type": "code",
   "execution_count": 1,
   "metadata": {},
   "outputs": [
    {
     "name": "stdout",
     "output_type": "stream",
     "text": [
      "Welcome to JupyROOT 6.16/00\n"
     ]
    }
   ],
   "source": [
    "import os\n",
    "import sys\n",
    "import random\n",
    "import ROOT\n",
    "import numpy as np\n",
    "import matplotlib.pyplot as plt"
   ]
  },
  {
   "cell_type": "code",
   "execution_count": 2,
   "metadata": {},
   "outputs": [],
   "source": [
    "def simulation(distance, doubleplane, energy, erel, neutron, physics, overwrite, air):\n",
    "    outfile = \"test.simu.root\"\n",
    "    parfile = \"test.para.root\"\n",
    "\n",
    "    if not overwrite and os.path.isfile(outfile):\n",
    "        print(f\"Output {outfile} exists and overwriting is disabled\")\n",
    "        return\n",
    "\n",
    "    ROOT.ROOT.EnableThreadSafety()\n",
    "    ROOT.FairLogger.GetLogger().SetLogVerbosityLevel(\"LOW\")\n",
    "    ROOT.FairLogger.GetLogger().SetLogScreenLevel(\"WARNING\")\n",
    "\n",
    "    vmcworkdir = os.environ[\"VMCWORKDIR\"]\n",
    "    os.environ[\"GEOMPATH\"] = vmcworkdir + \"/geometry\"\n",
    "    os.environ[\"CONFIG_DIR\"] = vmcworkdir + \"/gconfig\"\n",
    "    os.environ[\"PHYSICSLIST\"] = f\"QGSP_{physics.upper()}_HP\"\n",
    "\n",
    "    # Initialize Simulation\n",
    "    run = ROOT.FairRunSim()\n",
    "    run.SetName(\"TGeant4\")\n",
    "    run.SetStoreTraj(False)\n",
    "    run.SetMaterials(\"media_r3b.geo\")\n",
    "\n",
    "    # Output\n",
    "    run.SetSink(ROOT.FairRootFileSink(outfile))\n",
    "\n",
    "    # Primary Generator\n",
    "    generator = ROOT.FairPrimaryGenerator()\n",
    "    psg = ROOT.R3BPhaseSpaceGenerator()\n",
    "    psg.SetBeamEnergyDistribution_AMeV(ROOT.R3BDistribution1D.Delta(energy))\n",
    "    psg.SetErelDistribution_keV(ROOT.R3BDistribution1D.Delta(erel))\n",
    "    psg.AddHeavyIon(50, 132 - neutron)\n",
    "    for n in range(neutron):\n",
    "        psg.AddParticle(2112)\n",
    "    generator.AddGenerator(psg)\n",
    "    run.SetGenerator(generator)\n",
    "\n",
    "    # Geometry\n",
    "    cave = ROOT.R3BCave(\"Cave\")\n",
    "    cave.SetGeometryFileName(\"r3b_cave_vacuum.geo\")\n",
    "    run.AddModule(cave)\n",
    "\n",
    "    if air:\n",
    "        run.AddModule(ROOT.R3BNeutronWindowAndSomeAir(700, distance * 100))\n",
    "\n",
    "    neuland_position = ROOT.TGeoTranslation(0.0, 0.0, distance * 100 + doubleplane * 10.0 / 2.0)\n",
    "    neuland = ROOT.R3BNeuland(doubleplane, neuland_position)\n",
    "    run.AddModule(neuland)\n",
    "\n",
    "    magnetic_field = ROOT.R3BGladFieldMap(\"R3BGladMap\")\n",
    "    magnetic_field.SetScale(-0.6)\n",
    "    run.SetField(magnetic_field)\n",
    "\n",
    "    # Prepare to run\n",
    "    run.Init()\n",
    "    ROOT.TVirtualMC.GetMC().SetRandom(ROOT.TRandom3(random.randint(0, 10000)))\n",
    "    ROOT.TVirtualMC.GetMC().SetMaxNStep(100000)\n",
    "\n",
    "    # Runtime Database\n",
    "    rtdb = run.GetRuntimeDb()\n",
    "    parout = ROOT.FairParRootFileIo(True)\n",
    "    parout.open(parfile)\n",
    "    rtdb.setOutput(parout)\n",
    "    rtdb.saveOutput()\n",
    "\n",
    "    # Run\n",
    "    run.Run(20000)\n",
    "    del run"
   ]
  },
  {
   "cell_type": "code",
   "execution_count": 3,
   "metadata": {},
   "outputs": [],
   "source": [
    "neutron = 4\n",
    "physics = \"inclxx\"\n",
    "air = True"
   ]
  },
  {
   "cell_type": "code",
   "execution_count": null,
   "metadata": {},
   "outputs": [],
   "source": [
    "simulation(15, 30, 600, 500, neutron, physics, True, air)"
   ]
  },
  {
   "cell_type": "code",
   "execution_count": 5,
   "metadata": {},
   "outputs": [
    {
     "name": "stdout",
     "output_type": "stream",
     "text": [
      "4 True inclxx 2979 14.89 %\n",
      "4 True inclxx 852 4.26 %\n"
     ]
    },
    {
     "data": {
      "image/png": "[encoded data removed]",
      "text/plain": [
       "<Figure size 432x288 with 1 Axes>"
      ]
     },
     "metadata": {
      "needs_background": "light"
     },
     "output_type": "display_data"
    }
   ],
   "source": [
    "f = ROOT.TFile.Open(\"test.simu.root\")\n",
    "\n",
    "primary_neutron_track_ids = range(1, neutron + 1)\n",
    "\n",
    "z_windowair = []\n",
    "z_air = []\n",
    "for e in f.evt:\n",
    "    zs_wa = []\n",
    "    zs_a = []\n",
    "    \n",
    "    for i, track in enumerate(e.MCTrack):\n",
    "        z = track.GetStartZ()\n",
    "        if z < 1500 and track.GetMotherId() in primary_neutron_track_ids:\n",
    "            zs_wa.append(z)\n",
    "            if z > 700:\n",
    "                zs_a.append(z)\n",
    "    \n",
    "    if len(zs_wa) > 0:\n",
    "        z_windowair.append(zs_wa)\n",
    "    if len(zs_a) > 0:\n",
    "        z_air.append(zs_a)\n",
    "\n",
    "print(neutron, air, physics, len(z_windowair), round(len(z_windowair) / f.evt.GetEntries() * 100, 2), \"%\")\n",
    "print(neutron, air, physics, len(z_air), round(len(z_air) / f.evt.GetEntries() * 100, 2), \"%\")\n",
    "\n",
    "flatten = lambda l: [item for sublist in l for item in sublist]\n",
    "histna = np.histogram(flatten(z_windowair), range=(0, 1500), bins=1500)\n",
    "plt.plot(histna[1][:-1], histna[0])\n",
    "plt.yscale(\"log\")"
   ]
  },
  {
   "cell_type": "code",
   "execution_count": 6,
   "metadata": {},
   "outputs": [],
   "source": [
    "os.remove(\"test.simu.root\")\n",
    "os.remove(\"test.para.root\")"
   ]
  },
  {
   "cell_type": "code",
   "execution_count": 7,
   "metadata": {},
   "outputs": [],
   "source": [
    "# 1n Window+Air inclxx 3.84%\n",
    "# 1n Air        inclxx 1.11%\n",
    "# 4n Window+Air inclxx 14.89%\n",
    "# 4n Air        inclxx 4.26%"
   ]
  }
 ],
 "metadata": {
  "kernelspec": {
   "display_name": "Python 3",
   "language": "python",
   "name": "python3"
  },
  "language_info": {
   "codemirror_mode": {
    "name": "ipython",
    "version": 3
   },
   "file_extension": ".py",
   "mimetype": "text/x-python",
   "name": "python",
   "nbconvert_exporter": "python",
   "pygments_lexer": "ipython3",
   "version": "3.7.6"
  }
 },
 "nbformat": 4,
 "nbformat_minor": 4
}
