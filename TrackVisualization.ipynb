{
 "cells": [
  {
   "cell_type": "markdown",
   "metadata": {},
   "source": [
    "# Trajectory picture"
   ]
  },
  {
   "cell_type": "code",
   "execution_count": 1,
   "metadata": {},
   "outputs": [
    {
     "name": "stdout",
     "output_type": "stream",
     "text": [
      "Welcome to JupyROOT 6.16/00\n"
     ]
    }
   ],
   "source": [
    "import os\n",
    "import ROOT"
   ]
  },
  {
   "cell_type": "code",
   "execution_count": 2,
   "metadata": {},
   "outputs": [],
   "source": [
    "def simulation():\n",
    "    parfile = \"output/traj.para.root\"\n",
    "    outfile = \"output/traj.simu.root\"\n",
    "\n",
    "    ROOT.ROOT.EnableThreadSafety()\n",
    "    ROOT.FairLogger.GetLogger().SetLogVerbosityLevel(\"LOW\")\n",
    "    ROOT.FairLogger.GetLogger().SetLogScreenLevel(\"ERROR\")\n",
    "\n",
    "    vmcworkdir = os.environ[\"VMCWORKDIR\"]\n",
    "    os.environ[\"GEOMPATH\"] = vmcworkdir + \"/geometry\"\n",
    "    os.environ[\"CONFIG_DIR\"] = vmcworkdir + \"/gconfig\"\n",
    "    os.environ[\"PHYSICSLIST\"] = \"QGSP_INCLXX_HP\"\n",
    "\n",
    "    # Initialize Simulation\n",
    "    run = ROOT.FairRunSim()\n",
    "    run.SetName(\"TGeant4\")\n",
    "    run.SetStoreTraj(True)\n",
    "    run.SetMaterials(\"media_r3b.geo\")\n",
    "\n",
    "    # Output\n",
    "    output = ROOT.FairRootFileSink(outfile)\n",
    "    run.SetSink(output)\n",
    "\n",
    "    # Primary Generator\n",
    "    generator = ROOT.FairPrimaryGenerator()\n",
    "    box = ROOT.FairBoxGenerator(2112, 1)\n",
    "    box.SetXYZ(0, 0, 0.0)\n",
    "    box.SetThetaRange(0.0, 1.0)\n",
    "    box.SetPhiRange(0.0, 360.0)\n",
    "    box.SetEkinRange(0.6, 0.6)\n",
    "    generator.AddGenerator(box)\n",
    "    run.SetGenerator(generator)\n",
    "\n",
    "    # Geometry\n",
    "    cave = ROOT.R3BCave(\"Cave\")\n",
    "    cave.SetGeometryFileName(\"r3b_cave_vacuum.geo\")\n",
    "    run.AddModule(cave)\n",
    "\n",
    "    doubleplane = 30\n",
    "    neuland_position = ROOT.TGeoTranslation(\n",
    "        0.0, 0.0, 15 * 100 + doubleplane * 10.0 / 2.0\n",
    "    )\n",
    "    neuland = ROOT.R3BNeuland(doubleplane, neuland_position)\n",
    "    run.AddModule(neuland)\n",
    "\n",
    "    # Prepare to run\n",
    "    run.Init()\n",
    "    ROOT.TVirtualMC.GetMC().SetRandom(ROOT.TRandom3(1337))\n",
    "    ROOT.TVirtualMC.GetMC().SetMaxNStep(100000)\n",
    "\n",
    "    # Runtime Database\n",
    "    rtdb = run.GetRuntimeDb()\n",
    "    parout = ROOT.FairParRootFileIo(True)\n",
    "    parout.open(parfile)\n",
    "    rtdb.setOutput(parout)\n",
    "    rtdb.saveOutput()\n",
    "\n",
    "    run.Run(20)"
   ]
  },
  {
   "cell_type": "code",
   "execution_count": null,
   "metadata": {},
   "outputs": [],
   "source": [
    "simulation()"
   ]
  },
  {
   "cell_type": "code",
   "execution_count": 4,
   "metadata": {},
   "outputs": [],
   "source": [
    "f = ROOT.TFile.Open(\"output/traj.simu.root\")\n",
    "zoffset = 1500\n",
    "\n",
    "alldata = []\n",
    "allpoints = []\n",
    "for e in f.evt:\n",
    "    data = []\n",
    "    for i, track in enumerate(e.GeoTracks):\n",
    "        datum = {}\n",
    "        particle = track.GetParticle()\n",
    "\n",
    "        lv = ROOT.TLorentzVector()\n",
    "        particle.Momentum(lv)\n",
    "        ekin = (lv.E() - particle.GetMass()) * 1000\n",
    "\n",
    "        # print(i, particle.GetPdgCode(), ekin, track.GetNpoints())\n",
    "        datum[\"pdg\"] = particle.GetPdgCode()\n",
    "        datum[\"name\"] = track.GetName()\n",
    "        datum[\"ekin\"] = ekin\n",
    "\n",
    "        tr = []\n",
    "\n",
    "        for n in range(track.GetNpoints()):\n",
    "            # Check bounds\n",
    "            if (\n",
    "                abs(track.GetPoint(n)[2] - (zoffset + 150)) > 300 / 2 * 1.1\n",
    "                or abs(track.GetPoint(n)[1]) > 250 / 2 * 1.1\n",
    "                or abs(track.GetPoint(n)[0]) > 250 / 2 * 1.1\n",
    "            ):\n",
    "                continue\n",
    "            tr.append(\n",
    "                (\n",
    "                    track.GetPoint(n)[0] / 10,\n",
    "                    track.GetPoint(n)[1] / 10,\n",
    "                    (track.GetPoint(n)[2] - zoffset) / 10,\n",
    "                )\n",
    "            )\n",
    "        datum[\"track\"] = tr\n",
    "        data.append(datum)\n",
    "    alldata.append(data)\n",
    "\n",
    "    points = []\n",
    "    for p in e.NeulandPoints:\n",
    "        pos = p.GetPosition()\n",
    "        points.append(\n",
    "            (pos.X() / 10, pos.Y() / 10, (pos.Z() - zoffset) / 10, p.GetLightYield())\n",
    "        )\n",
    "    allpoints.append(points)"
   ]
  },
  {
   "cell_type": "code",
   "execution_count": 5,
   "metadata": {},
   "outputs": [
    {
     "name": "stdout",
     "output_type": "stream",
     "text": [
      "{2112: {'name': 'neutron', 'color': [153, 153, 153]}, 1000020040: {'name': 'XXX', 'color': [153, 153, 153]}, 1000010020: {'name': 'XXX', 'color': [153, 153, 153]}, 11: {'name': 'e-', 'color': [153, 153, 153]}, -12: {'name': 'nu_e_bar', 'color': [153, 153, 153]}, 2212: {'name': 'proton', 'color': [153, 153, 153]}, 1000060120: {'name': 'XXX', 'color': [153, 153, 153]}, 22: {'name': 'gamma', 'color': [153, 153, 153]}, 1000040090: {'name': 'XXX', 'color': [153, 153, 153]}, 1000010030: {'name': 'XXX', 'color': [153, 153, 153]}, 1000030060: {'name': 'XXX', 'color': [153, 153, 153]}, 1000050110: {'name': 'XXX', 'color': [153, 153, 153]}, 1000020030: {'name': 'XXX', 'color': [153, 153, 153]}, 1000050100: {'name': 'XXX', 'color': [153, 153, 153]}, 1000060110: {'name': 'XXX', 'color': [153, 153, 153]}, -11: {'name': 'e+', 'color': [153, 153, 153]}, 1000030070: {'name': 'XXX', 'color': [153, 153, 153]}, 1000070120: {'name': 'XXX', 'color': [153, 153, 153]}, 211: {'name': 'pi+', 'color': [153, 153, 153]}, -13: {'name': 'mu+', 'color': [153, 153, 153]}, 12: {'name': 'nu_e', 'color': [153, 153, 153]}, -14: {'name': 'nu_mu_bar', 'color': [153, 153, 153]}, 14: {'name': 'nu_mu', 'color': [153, 153, 153]}, 1000020060: {'name': 'XXX', 'color': [153, 153, 153]}, -211: {'name': 'pi-', 'color': [153, 153, 153]}, 1000120250: {'name': 'XXX', 'color': [153, 153, 153]}, 111: {'name': 'pi0', 'color': [153, 153, 153]}, 1000130260: {'name': 'XXX', 'color': [153, 153, 153]}, 1000130270: {'name': 'XXX', 'color': [153, 153, 153]}, 1000040070: {'name': 'XXX', 'color': [153, 153, 153]}, 1000060100: {'name': 'XXX', 'color': [153, 153, 153]}, 1000090180: {'name': 'XXX', 'color': [153, 153, 153]}, 1000110230: {'name': 'XXX', 'color': [153, 153, 153]}, 1000120260: {'name': 'XXX', 'color': [153, 153, 153]}}\n"
     ]
    }
   ],
   "source": [
    "import palettable\n",
    "# colors = palettable.cartocolors.qualitative.Bold_10.colors\n",
    "colors = palettable.colorbrewer.qualitative.Set1_9.colors\n",
    "defaultcolor = colors[8]\n",
    "\n",
    "particles = {}\n",
    "for data in alldata:\n",
    "    for datum in data:\n",
    "        particles[datum[\"pdg\"]] = {\"name\": datum[\"name\"], \"color\": defaultcolor}\n",
    "\n",
    "print(particles)"
   ]
  },
  {
   "cell_type": "code",
   "execution_count": 6,
   "metadata": {},
   "outputs": [
    {
     "name": "stdout",
     "output_type": "stream",
     "text": [
      "{2112: {'name': 'neutron', 'color': [228, 26, 28]}, 1000020040: {'name': 'XXX', 'color': [166, 86, 40]}, 1000010020: {'name': 'XXX', 'color': [55, 126, 184]}, 11: {'name': '$e^-$', 'color': [152, 78, 163]}, -12: {'name': '$\\\\bar{\\\\nu}_e$', 'color': [255, 127, 0]}, 2212: {'name': 'proton', 'color': [55, 126, 184]}, 1000060120: {'name': 'XXX', 'color': [153, 153, 153]}, 22: {'name': '$\\\\gamma$', 'color': [77, 175, 74]}, 1000040090: {'name': 'XXX', 'color': [153, 153, 153]}, 1000010030: {'name': 'XXX', 'color': [55, 126, 184]}, 1000030060: {'name': 'XXX', 'color': [153, 153, 153]}, 1000050110: {'name': 'XXX', 'color': [153, 153, 153]}, 1000020030: {'name': 'XXX', 'color': [166, 86, 40]}, 1000050100: {'name': 'XXX', 'color': [153, 153, 153]}, 1000060110: {'name': 'XXX', 'color': [153, 153, 153]}, -11: {'name': '$e^+$', 'color': [152, 78, 163]}, 1000030070: {'name': 'XXX', 'color': [153, 153, 153]}, 1000070120: {'name': 'XXX', 'color': [153, 153, 153]}, 211: {'name': '$\\\\pi^+$', 'color': [255, 255, 51]}, -13: {'name': '$\\\\mu^+$', 'color': [247, 129, 191]}, 12: {'name': '$\\\\nu_e$', 'color': [255, 127, 0]}, -14: {'name': '$\\\\bar{\\\\nu}_\\\\mu$', 'color': [255, 127, 0]}, 14: {'name': '$\\\\nu_\\\\mu$', 'color': [255, 127, 0]}, 1000020060: {'name': 'XXX', 'color': [166, 86, 40]}, -211: {'name': '$\\\\pi^-$', 'color': [255, 255, 51]}, 1000120250: {'name': 'XXX', 'color': [153, 153, 153]}, 111: {'name': '$\\\\pi^0$', 'color': [255, 255, 51]}, 1000130260: {'name': 'XXX', 'color': [153, 153, 153]}, 1000130270: {'name': 'XXX', 'color': [153, 153, 153]}, 1000040070: {'name': 'XXX', 'color': [153, 153, 153]}, 1000060100: {'name': 'XXX', 'color': [153, 153, 153]}, 1000090180: {'name': 'XXX', 'color': [153, 153, 153]}, 1000110230: {'name': 'XXX', 'color': [153, 153, 153]}, 1000120260: {'name': 'XXX', 'color': [153, 153, 153]}, 13: {'name': '$\\\\mu^-$', 'color': [247, 129, 191]}}\n"
     ]
    }
   ],
   "source": [
    "particles[11][\"name\"] = \"$e^-$\"\n",
    "particles[-11][\"name\"] = \"$e^+$\"\n",
    "particles[22][\"name\"] = \"$\\gamma$\"\n",
    "particles[-13][\"name\"] = \"$\\\\mu^+$\"\n",
    "particles[12][\"name\"] = \"$\\\\nu_e$\"\n",
    "particles[-12][\"name\"] = \"$\\\\bar{\\\\nu}_e$\"\n",
    "particles[14][\"name\"] = \"$\\\\nu_\\mu$\"\n",
    "particles[-14][\"name\"] = \"$\\\\bar{\\\\nu}_\\mu$\"\n",
    "particles[211][\"name\"] = \"$\\pi^+$\"\n",
    "particles[-211][\"name\"] = \"$\\pi^-$\"\n",
    "particles[111][\"name\"] = \"$\\pi^0$\"\n",
    "\n",
    "particles[2112][\"color\"] = colors[0]\n",
    "particles[2212][\"color\"] = colors[1]\n",
    "particles[1000010020][\"color\"] = colors[1]\n",
    "particles[1000010030][\"color\"] = colors[1]\n",
    "particles[22][\"color\"] = colors[2]\n",
    "particles[11][\"color\"] = colors[3]\n",
    "particles[-11][\"color\"] = colors[3]\n",
    "particles[1000020030][\"color\"] = colors[6]\n",
    "particles[1000020040][\"color\"] = colors[6]\n",
    "particles[1000020060][\"color\"] = colors[6]\n",
    "particles[12][\"color\"] = colors[4]\n",
    "particles[-12][\"color\"] = colors[4]\n",
    "particles[-13][\"color\"] = colors[7]\n",
    "particles[14][\"color\"] = colors[4]\n",
    "particles[-14][\"color\"] = colors[4]\n",
    "particles[211][\"color\"] = colors[5]\n",
    "particles[-211][\"color\"] = colors[5]\n",
    "particles[111][\"color\"] = colors[5]\n",
    "\n",
    "particles[13] = {\"name\": \"$\\\\mu^-$\", \"color\": colors[7]}\n",
    "\n",
    "print(particles)"
   ]
  },
  {
   "cell_type": "code",
   "execution_count": 20,
   "metadata": {},
   "outputs": [],
   "source": [
    "import math\n",
    "for en in range(20):\n",
    "    out = \"\"\"\\\\documentclass{scrartcl}\n",
    "    \\\\usepackage{xcolor, tikz}\n",
    "    \\\\pagestyle{empty}\n",
    "    \"\"\"\n",
    "\n",
    "    cl = set([abs(datum[\"pdg\"]) for datum in alldata[en]])\n",
    "    for pdg in cl:\n",
    "        out += \"\\\\definecolor{pdg%s}{RGB}{%d,%d,%d}\\n\" % (str(abs(pdg)), *particles[pdg][\"color\"])\n",
    "\n",
    "    out += \"\"\"\n",
    "    \\\\begin{document}\n",
    "    \\\\begin{tikzpicture}[scale=0.4] %\\columnwidth/252.0pt]\n",
    "    \\\\draw[step=0.5,very thin,gray] (0,-12.5) grid (30,6.25);\n",
    "    \\\\draw[step=0.5,very thin,gray] (5.25,6.25) grid (30,12.5);\n",
    "    \"\"\"\n",
    "\n",
    "    for point in allpoints[en]:\n",
    "        out += \"\\\\draw (%f,%f) circle (%f);\\n\" % (point[2], point[1], 0.1*math.log(point[3]) )\n",
    "\n",
    "    for datum in alldata[en]:\n",
    "        out += \"\\\\draw[color=%s,very thick] \" % (\"pdg%s\" % str(abs(datum[\"pdg\"])))\n",
    "        out += \" -- \".join([f\"({t[2]}, {t[1]})\" for t in datum[\"track\"]])\n",
    "        out += \";\\n\"\n",
    "   \n",
    "    legend = set([datum[\"pdg\"] for datum in alldata[en]])\n",
    "    i = 1\n",
    "    for pdg in legend:\n",
    "        if particles[pdg][\"name\"] != \"XXX\":\n",
    "            out +=  \"\\\\draw[color=%s,very thick] (0.25,%d) -- (1.25,%d) node [right,black] {%s};\\n\" % (\"pdg%s\" % str(abs(pdg)), 14 - 1.1*i, 14 - 1.1*i, particles[pdg][\"name\"])\n",
    "            i += 1\n",
    "\n",
    "    out += \"\"\"\\\\end{tikzpicture}\n",
    "    \\\\end{document}\n",
    "    \"\"\"\n",
    "\n",
    "    with open(f\"paper/tracks/tracks{en}.tex\", \"w\") as f:\n",
    "        f.write(out)\n",
    "\n",
    "    import subprocess\n",
    "\n",
    "    subprocess.call(\n",
    "        [\"lualatex\", f\"tracks{en}.tex\"], cwd=\"paper/tracks\", stdout=subprocess.DEVNULL\n",
    "    )\n",
    "    subprocess.call(\n",
    "        [\"pdfcrop\", f\"tracks{en}.pdf\",  f\"tracks{en}.pdf\"], cwd=\"paper/tracks\", stdout=subprocess.DEVNULL\n",
    "    )\n",
    "    os.remove(f\"paper/tracks/tracks{en}.aux\")\n",
    "    os.remove(f\"paper/tracks/tracks{en}.log\")"
   ]
  },
  {
   "cell_type": "code",
   "execution_count": null,
   "metadata": {},
   "outputs": [],
   "source": []
  }
 ],
 "metadata": {
  "kernelspec": {
   "display_name": "Python 3",
   "language": "python",
   "name": "python3"
  },
  "language_info": {
   "codemirror_mode": {
    "name": "ipython",
    "version": 3
   },
   "file_extension": ".py",
   "mimetype": "text/x-python",
   "name": "python",
   "nbconvert_exporter": "python",
   "pygments_lexer": "ipython3",
   "version": "3.7.6"
  }
 },
 "nbformat": 4,
 "nbformat_minor": 4
}
