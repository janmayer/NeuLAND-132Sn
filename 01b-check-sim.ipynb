{
 "cells": [
  {
   "cell_type": "markdown",
   "metadata": {},
   "source": [
    "Note: Supervise running simulations with \n",
    "```sh\n",
    "while true; do clear; tail -n1 output/*.simu.log | grep '>>>'; sleep 10; done\n",
    "```"
   ]
  },
  {
   "cell_type": "code",
   "execution_count": 1,
   "metadata": {},
   "outputs": [
    {
     "name": "stdout",
     "output_type": "stream",
     "text": [
      "Welcome to JupyROOT 6.16/00\n"
     ]
    }
   ],
   "source": [
    "import pandas as pd\n",
    "import os\n",
    "import ROOT"
   ]
  },
  {
   "cell_type": "code",
   "execution_count": 2,
   "metadata": {},
   "outputs": [],
   "source": [
    "distances = [15, 35]\n",
    "doubleplanes = [8, 12, 30]\n",
    "energies = [200, 600, 1000]\n",
    "erels = [100, 500]\n",
    "neutrons = [1, 2, 3, 4, 5, 6]"
   ]
  },
  {
   "cell_type": "code",
   "execution_count": 3,
   "metadata": {},
   "outputs": [],
   "source": [
    "def simulated_events(distance, doubleplane, energy, erel, neutron):\n",
    "    filepattern = \"output/%dm_%ddp_%dAMeV_%dkeV_%dn.%s.root\"\n",
    "    filename = filepattern % (distance, doubleplane, energy, erel, neutron, \"simu\")\n",
    "    if os.path.isfile(filename):\n",
    "        try:\n",
    "            tfile = ROOT.TFile.Open(filename, \"READ\")\n",
    "            ttree = tfile.Get(\"evt\")\n",
    "            num_events = int(ttree.GetEntries())\n",
    "            return (filename, num_events)\n",
    "        except:\n",
    "            pass\n",
    "    return (filename, 0)        "
   ]
  },
  {
   "cell_type": "code",
   "execution_count": 4,
   "metadata": {},
   "outputs": [],
   "source": [
    "data = pd.DataFrame(\n",
    "    [\n",
    "        simulated_events(distance, doubleplane, energy, erel, neutron)\n",
    "        for distance in distances\n",
    "        for energy in energies\n",
    "        for doubleplane in doubleplanes\n",
    "        for neutron in neutrons\n",
    "        for erel in erels\n",
    "    ]\n",
    ")"
   ]
  },
  {
   "cell_type": "code",
   "execution_count": 5,
   "metadata": {},
   "outputs": [
    {
     "data": {
      "text/html": [
       "<div>\n",
       "<style scoped>\n",
       "    .dataframe tbody tr th:only-of-type {\n",
       "        vertical-align: middle;\n",
       "    }\n",
       "\n",
       "    .dataframe tbody tr th {\n",
       "        vertical-align: top;\n",
       "    }\n",
       "\n",
       "    .dataframe thead th {\n",
       "        text-align: right;\n",
       "    }\n",
       "</style>\n",
       "<table border=\"1\" class=\"dataframe\">\n",
       "  <thead>\n",
       "    <tr style=\"text-align: right;\">\n",
       "      <th></th>\n",
       "      <th>File</th>\n",
       "      <th>Events</th>\n",
       "    </tr>\n",
       "  </thead>\n",
       "  <tbody>\n",
       "    <tr>\n",
       "      <th>84</th>\n",
       "      <td>output/15m_12dp_1000AMeV_100keV_1n.simu.root</td>\n",
       "      <td>10000</td>\n",
       "    </tr>\n",
       "    <tr>\n",
       "      <th>86</th>\n",
       "      <td>output/15m_12dp_1000AMeV_100keV_2n.simu.root</td>\n",
       "      <td>10000</td>\n",
       "    </tr>\n",
       "    <tr>\n",
       "      <th>88</th>\n",
       "      <td>output/15m_12dp_1000AMeV_100keV_3n.simu.root</td>\n",
       "      <td>10000</td>\n",
       "    </tr>\n",
       "    <tr>\n",
       "      <th>90</th>\n",
       "      <td>output/15m_12dp_1000AMeV_100keV_4n.simu.root</td>\n",
       "      <td>10000</td>\n",
       "    </tr>\n",
       "    <tr>\n",
       "      <th>92</th>\n",
       "      <td>output/15m_12dp_1000AMeV_100keV_5n.simu.root</td>\n",
       "      <td>10000</td>\n",
       "    </tr>\n",
       "    <tr>\n",
       "      <th>...</th>\n",
       "      <td>...</td>\n",
       "      <td>...</td>\n",
       "    </tr>\n",
       "    <tr>\n",
       "      <th>147</th>\n",
       "      <td>output/35m_8dp_600AMeV_500keV_2n.simu.root</td>\n",
       "      <td>10000</td>\n",
       "    </tr>\n",
       "    <tr>\n",
       "      <th>149</th>\n",
       "      <td>output/35m_8dp_600AMeV_500keV_3n.simu.root</td>\n",
       "      <td>10000</td>\n",
       "    </tr>\n",
       "    <tr>\n",
       "      <th>151</th>\n",
       "      <td>output/35m_8dp_600AMeV_500keV_4n.simu.root</td>\n",
       "      <td>10000</td>\n",
       "    </tr>\n",
       "    <tr>\n",
       "      <th>153</th>\n",
       "      <td>output/35m_8dp_600AMeV_500keV_5n.simu.root</td>\n",
       "      <td>10000</td>\n",
       "    </tr>\n",
       "    <tr>\n",
       "      <th>155</th>\n",
       "      <td>output/35m_8dp_600AMeV_500keV_6n.simu.root</td>\n",
       "      <td>10000</td>\n",
       "    </tr>\n",
       "  </tbody>\n",
       "</table>\n",
       "<p>216 rows × 2 columns</p>\n",
       "</div>"
      ],
      "text/plain": [
       "                                             File  Events\n",
       "84   output/15m_12dp_1000AMeV_100keV_1n.simu.root   10000\n",
       "86   output/15m_12dp_1000AMeV_100keV_2n.simu.root   10000\n",
       "88   output/15m_12dp_1000AMeV_100keV_3n.simu.root   10000\n",
       "90   output/15m_12dp_1000AMeV_100keV_4n.simu.root   10000\n",
       "92   output/15m_12dp_1000AMeV_100keV_5n.simu.root   10000\n",
       "..                                            ...     ...\n",
       "147    output/35m_8dp_600AMeV_500keV_2n.simu.root   10000\n",
       "149    output/35m_8dp_600AMeV_500keV_3n.simu.root   10000\n",
       "151    output/35m_8dp_600AMeV_500keV_4n.simu.root   10000\n",
       "153    output/35m_8dp_600AMeV_500keV_5n.simu.root   10000\n",
       "155    output/35m_8dp_600AMeV_500keV_6n.simu.root   10000\n",
       "\n",
       "[216 rows x 2 columns]"
      ]
     },
     "metadata": {},
     "output_type": "display_data"
    }
   ],
   "source": [
    "data.columns = [\"File\", \"Events\"]\n",
    "data.sort_values(by=[\"Events\", \"File\"], ascending=[True, True], inplace=True)\n",
    "data.style.hide_index().format({\"Events\": \"{:d}\"})\n",
    "display(data)"
   ]
  },
  {
   "cell_type": "code",
   "execution_count": null,
   "metadata": {},
   "outputs": [],
   "source": []
  }
 ],
 "metadata": {
  "kernelspec": {
   "display_name": "Python 3",
   "language": "python",
   "name": "python3"
  },
  "language_info": {
   "codemirror_mode": {
    "name": "ipython",
    "version": 3
   },
   "file_extension": ".py",
   "mimetype": "text/x-python",
   "name": "python",
   "nbconvert_exporter": "python",
   "pygments_lexer": "ipython3",
   "version": "3.7.6"
  }
 },
 "nbformat": 4,
 "nbformat_minor": 4
}
