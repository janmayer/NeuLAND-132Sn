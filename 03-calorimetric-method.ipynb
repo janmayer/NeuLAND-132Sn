{
 "cells": [
  {
   "cell_type": "markdown",
   "metadata": {},
   "source": [
    "# Step 3: Train and evaluate the Calorimetric method"
   ]
  },
  {
   "cell_type": "code",
   "execution_count": 2,
   "metadata": {},
   "outputs": [],
   "source": [
    "distances = [15, 35]\n",
    "doubleplanes = [8, 12, 30]\n",
    "energies = [200, 600, 1000]\n",
    "erels = [100, 500]\n",
    "neutrons = [1, 2, 3, 4, 5, 6]\n",
    "physicss = [\"bert\", \"bic\", \"inclxx\"]\n",
    "scenarios = [\"air\", \"vacuum\"]"
   ]
  },
  {
   "cell_type": "markdown",
   "metadata": {},
   "source": [
    "## a) Train calorimetric method for all settings"
   ]
  },
  {
   "cell_type": "code",
   "execution_count": 1,
   "metadata": {},
   "outputs": [
    {
     "name": "stdout",
     "output_type": "stream",
     "text": [
      "Welcome to JupyROOT 6.16/00\n"
     ]
    }
   ],
   "source": [
    "import os\n",
    "import wurlitzer\n",
    "import joblib\n",
    "import ROOT"
   ]
  },
  {
   "cell_type": "code",
   "execution_count": 3,
   "metadata": {},
   "outputs": [],
   "source": [
    "ROOT.ROOT.EnableThreadSafety()\n",
    "ROOT.FairLogger.GetLogger().SetLogVerbosityLevel(\"LOW\")\n",
    "ROOT.FairLogger.GetLogger().SetLogScreenLevel(\"WARNING\")\n",
    "ROOT.gROOT.SetBatch(True)"
   ]
  },
  {
   "cell_type": "code",
   "execution_count": 4,
   "metadata": {},
   "outputs": [],
   "source": [
    "def calibr(distance, doubleplane, energy, erel, nmax, physics, scenario):\n",
    "    filepattern = \"output/%s-%s/%dm_%ddp_%dAMeV_%dkeV_%dn.%s.root\"\n",
    "    outfile = filepattern % (physics, scenario, distance, doubleplane, energy, erel, nmax, \"ncut\")\n",
    "    \n",
    "    if os.path.exists(outfile):\n",
    "        os.remove(outfile)\n",
    "    \n",
    "    # Write all output to a log file\n",
    "    logfile = outfile.replace(\".root\", \".log\")\n",
    "    with open(logfile, \"w\") as log, wurlitzer.pipes(stdout=log, stderr=wurlitzer.STDOUT):\n",
    "        cal = ROOT.Neuland.Neutron2DCalibr(nmax)\n",
    "        for neutron in range(1, nmax + 1):\n",
    "            digifile = filepattern % (physics, scenario, distance, doubleplane, energy, erel, neutron, \"digi\")\n",
    "            cal.AddClusterFile(digifile)\n",
    "\n",
    "        # Starting parameters (double val, double step, double lower, double upper)\n",
    "        vslope = ROOT.std.vector('double')()\n",
    "        vslope += [0.04, 0.001, 0.001, 10]\n",
    "        vdistance = ROOT.std.vector('double')()\n",
    "        vdistance += [energy / 20., energy / 100., energy / 100., energy]\n",
    "        vdist_off = ROOT.std.vector('double')()\n",
    "        vdist_off += [3, 0.5, 3, 6]\n",
    "\n",
    "        # Create Cuts\n",
    "        cal.Optimize(vslope, vdistance, vdist_off);\n",
    "\n",
    "        # Write the output files (root, dat, pdf)\n",
    "        cal.WriteParameterFile(outfile)\n",
    "        o = ROOT.std.ofstream(outfile.replace(\".root\", \".dat\"))\n",
    "        cal.Print(o)\n",
    "        cal.Draw(outfile.replace(\".root\", \".pdf\"))\n",
    "        del cal"
   ]
  },
  {
   "cell_type": "code",
   "execution_count": 5,
   "metadata": {},
   "outputs": [
    {
     "name": "stderr",
     "output_type": "stream",
     "text": [
      "[Parallel(n_jobs=-1)]: Using backend MultiprocessingBackend with 56 concurrent workers.\n",
      "[Parallel(n_jobs=-1)]: Done  88 tasks      | elapsed:   12.4s\n",
      "[Parallel(n_jobs=-1)]: Done 338 tasks      | elapsed:   51.4s\n",
      "[Parallel(n_jobs=-1)]: Done 688 tasks      | elapsed:  3.6min\n",
      "[Parallel(n_jobs=-1)]: Done 1138 tasks      | elapsed:  5.7min\n",
      "[Parallel(n_jobs=-1)]: Done 1296 out of 1296 | elapsed:  7.6min finished\n"
     ]
    },
    {
     "data": {
      "text/plain": [
       "''"
      ]
     },
     "execution_count": 5,
     "metadata": {},
     "output_type": "execute_result"
    }
   ],
   "source": [
    "joblib.Parallel(n_jobs=-1, backend=\"multiprocessing\", verbose=1)(\n",
    "    joblib.delayed(calibr)(\n",
    "        distance=distance,\n",
    "        doubleplane=doubleplane,\n",
    "        energy=energy,\n",
    "        erel=erel,\n",
    "        nmax=neutron,\n",
    "        physics=physics,\n",
    "        scenario=scenario,\n",
    "    )\n",
    "    for distance in distances\n",
    "    for energy in energies\n",
    "    for doubleplane in doubleplanes\n",
    "    for neutron in neutrons\n",
    "    for erel in erels\n",
    "    for physics in physicss\n",
    "    for scenario in scenarios\n",
    ");"
   ]
  },
  {
   "cell_type": "markdown",
   "metadata": {},
   "source": [
    "## b) Apply cuts to a setting and evaluate performance"
   ]
  },
  {
   "cell_type": "code",
   "execution_count": 6,
   "metadata": {},
   "outputs": [],
   "source": [
    "import numpy as np\n",
    "import pandas as pd"
   ]
  },
  {
   "cell_type": "markdown",
   "metadata": {},
   "source": [
    "For each event, apply the cuts and list the predicted multiplicity along with the number of incoming neutrons, the number of primary points, etc."
   ]
  },
  {
   "cell_type": "code",
   "execution_count": 7,
   "metadata": {},
   "outputs": [],
   "source": [
    "def neuland_calorimetric_data(distance, doubleplane, energy, erel, nmax, physics, scenario):\n",
    "    filepattern = \"output/%s-%s/%dm_%ddp_%dAMeV_%dkeV_%dn.%s.root\"\n",
    "    ncutfile = filepattern % (physics, scenario, distance, doubleplane, energy, erel, nmax, \"ncut\")\n",
    "\n",
    "    file = ROOT.TFile.Open(ncutfile)\n",
    "    para = file.Get(\"R3BNeulandNeutron2DPar\")\n",
    "\n",
    "    data = []\n",
    "    num_ex = 0\n",
    "    for neutron in range(1, nmax + 1):\n",
    "        digifile = filepattern % (physics, scenario, distance, doubleplane, energy, erel, neutron, \"digi\")\n",
    "        tfile = ROOT.TFile.Open(digifile)\n",
    "        ttree = tfile.Get(\"evt\")\n",
    "        for event in ttree:\n",
    "            # nPN: Number of incoming primary neutrons\n",
    "            nIn = neutron\n",
    "            # nPP: Number of primary neutrons with an energy deposition in NeuLAND\n",
    "            nPP = event.NeulandPrimaryPoints.GetEntries()\n",
    "            # nPH: Number of hits that correspond to a energy deposition of a primary neutron\n",
    "            nPH = event.NeulandPrimaryHits.GetEntries()\n",
    "            # nHits: Number of hits\n",
    "            num_hits = event.NeulandHits.GetEntries()\n",
    "            # nClus: Number of clusters\n",
    "            num_clusters = event.NeulandClusters.GetEntries()\n",
    "            # Edep: Total deposited (detected) energy\n",
    "            try:\n",
    "                edep = round(sum([hit.GetE() for hit in event.NeulandHits]))\n",
    "            except:\n",
    "                num_ex += 1\n",
    "                edep = 0\n",
    "\n",
    "            # Use calibrated calorimetric method (R3BNeulandNeutron2DPar) from the parameter file\n",
    "            # to predict the multiplicity\n",
    "            mult = para.GetNeutronMultiplicity(edep, num_clusters)\n",
    "\n",
    "            data.append([nIn, nPP, nPH, num_hits, num_clusters, edep, mult])\n",
    "    datapd = pd.DataFrame(data)\n",
    "    datapd.columns = [\"nIn\", \"nPP\", \"nPH\", \"num_hits\", \"num_cluster\", \"edep\", \"mult\"]\n",
    "    return datapd"
   ]
  },
  {
   "cell_type": "code",
   "execution_count": 8,
   "metadata": {},
   "outputs": [
    {
     "data": {
      "text/html": [
       "<div>\n",
       "<style scoped>\n",
       "    .dataframe tbody tr th:only-of-type {\n",
       "        vertical-align: middle;\n",
       "    }\n",
       "\n",
       "    .dataframe tbody tr th {\n",
       "        vertical-align: top;\n",
       "    }\n",
       "\n",
       "    .dataframe thead th {\n",
       "        text-align: right;\n",
       "    }\n",
       "</style>\n",
       "<table border=\"1\" class=\"dataframe\">\n",
       "  <thead>\n",
       "    <tr style=\"text-align: right;\">\n",
       "      <th></th>\n",
       "      <th>nIn</th>\n",
       "      <th>nPP</th>\n",
       "      <th>nPH</th>\n",
       "      <th>num_hits</th>\n",
       "      <th>num_cluster</th>\n",
       "      <th>edep</th>\n",
       "      <th>mult</th>\n",
       "    </tr>\n",
       "  </thead>\n",
       "  <tbody>\n",
       "    <tr>\n",
       "      <th>0</th>\n",
       "      <td>1</td>\n",
       "      <td>1</td>\n",
       "      <td>1</td>\n",
       "      <td>11</td>\n",
       "      <td>8</td>\n",
       "      <td>198</td>\n",
       "      <td>1</td>\n",
       "    </tr>\n",
       "    <tr>\n",
       "      <th>1</th>\n",
       "      <td>1</td>\n",
       "      <td>1</td>\n",
       "      <td>1</td>\n",
       "      <td>13</td>\n",
       "      <td>3</td>\n",
       "      <td>270</td>\n",
       "      <td>1</td>\n",
       "    </tr>\n",
       "    <tr>\n",
       "      <th>2</th>\n",
       "      <td>1</td>\n",
       "      <td>1</td>\n",
       "      <td>1</td>\n",
       "      <td>14</td>\n",
       "      <td>7</td>\n",
       "      <td>339</td>\n",
       "      <td>1</td>\n",
       "    </tr>\n",
       "    <tr>\n",
       "      <th>3</th>\n",
       "      <td>1</td>\n",
       "      <td>1</td>\n",
       "      <td>1</td>\n",
       "      <td>19</td>\n",
       "      <td>2</td>\n",
       "      <td>355</td>\n",
       "      <td>1</td>\n",
       "    </tr>\n",
       "    <tr>\n",
       "      <th>4</th>\n",
       "      <td>1</td>\n",
       "      <td>1</td>\n",
       "      <td>1</td>\n",
       "      <td>20</td>\n",
       "      <td>4</td>\n",
       "      <td>316</td>\n",
       "      <td>1</td>\n",
       "    </tr>\n",
       "    <tr>\n",
       "      <th>...</th>\n",
       "      <td>...</td>\n",
       "      <td>...</td>\n",
       "      <td>...</td>\n",
       "      <td>...</td>\n",
       "      <td>...</td>\n",
       "      <td>...</td>\n",
       "      <td>...</td>\n",
       "    </tr>\n",
       "    <tr>\n",
       "      <th>49995</th>\n",
       "      <td>5</td>\n",
       "      <td>4</td>\n",
       "      <td>4</td>\n",
       "      <td>71</td>\n",
       "      <td>19</td>\n",
       "      <td>1258</td>\n",
       "      <td>4</td>\n",
       "    </tr>\n",
       "    <tr>\n",
       "      <th>49996</th>\n",
       "      <td>5</td>\n",
       "      <td>5</td>\n",
       "      <td>5</td>\n",
       "      <td>53</td>\n",
       "      <td>26</td>\n",
       "      <td>1050</td>\n",
       "      <td>4</td>\n",
       "    </tr>\n",
       "    <tr>\n",
       "      <th>49997</th>\n",
       "      <td>5</td>\n",
       "      <td>5</td>\n",
       "      <td>5</td>\n",
       "      <td>75</td>\n",
       "      <td>20</td>\n",
       "      <td>1487</td>\n",
       "      <td>5</td>\n",
       "    </tr>\n",
       "    <tr>\n",
       "      <th>49998</th>\n",
       "      <td>5</td>\n",
       "      <td>5</td>\n",
       "      <td>5</td>\n",
       "      <td>84</td>\n",
       "      <td>28</td>\n",
       "      <td>1507</td>\n",
       "      <td>5</td>\n",
       "    </tr>\n",
       "    <tr>\n",
       "      <th>49999</th>\n",
       "      <td>5</td>\n",
       "      <td>5</td>\n",
       "      <td>5</td>\n",
       "      <td>87</td>\n",
       "      <td>32</td>\n",
       "      <td>1518</td>\n",
       "      <td>5</td>\n",
       "    </tr>\n",
       "  </tbody>\n",
       "</table>\n",
       "<p>50000 rows × 7 columns</p>\n",
       "</div>"
      ],
      "text/plain": [
       "       nIn  nPP  nPH  num_hits  num_cluster  edep  mult\n",
       "0        1    1    1        11            8   198     1\n",
       "1        1    1    1        13            3   270     1\n",
       "2        1    1    1        14            7   339     1\n",
       "3        1    1    1        19            2   355     1\n",
       "4        1    1    1        20            4   316     1\n",
       "...    ...  ...  ...       ...          ...   ...   ...\n",
       "49995    5    4    4        71           19  1258     4\n",
       "49996    5    5    5        53           26  1050     4\n",
       "49997    5    5    5        75           20  1487     5\n",
       "49998    5    5    5        84           28  1507     5\n",
       "49999    5    5    5        87           32  1518     5\n",
       "\n",
       "[50000 rows x 7 columns]"
      ]
     },
     "metadata": {},
     "output_type": "display_data"
    }
   ],
   "source": [
    "distance = 15\n",
    "doubleplane = 30\n",
    "erel = 500\n",
    "nmax = 5\n",
    "physics = \"inclxx\"\n",
    "scenario = \"air\"\n",
    "\n",
    "data = {\n",
    "    energy: neuland_calorimetric_data(\n",
    "        distance, doubleplane, energy, erel, nmax, physics, scenario\n",
    "    )\n",
    "    for energy in [200, 600, 1000]\n",
    "}\n",
    "\n",
    "pd.options.display.max_rows = 20\n",
    "display(data[600])"
   ]
  },
  {
   "cell_type": "markdown",
   "metadata": {},
   "source": [
    "Annotate the image created by the calibration. Ready for use in the paper."
   ]
  },
  {
   "cell_type": "code",
   "execution_count": 9,
   "metadata": {},
   "outputs": [
    {
     "data": {
      "text/plain": [
       "0"
      ]
     },
     "execution_count": 9,
     "metadata": {},
     "output_type": "execute_result"
    }
   ],
   "source": [
    "import shutil\n",
    "import subprocess\n",
    "\n",
    "energy = 600\n",
    "ncutpdf = \"%dm_%ddp_%dAMeV_%dkeV_%dn.ncut.pdf\" % (\n",
    "    distance,\n",
    "    doubleplane,\n",
    "    energy,\n",
    "    erel,\n",
    "    nmax,\n",
    ")\n",
    "shutil.copyfile(\"output/%s-%s/%s\" % (physics, scenario, ncutpdf), \"paper/\" + ncutpdf)\n",
    "subprocess.call([\"lualatex\", \"calibr.tex\"], cwd=\"paper\", stdout=subprocess.DEVNULL)"
   ]
  },
  {
   "cell_type": "markdown",
   "metadata": {},
   "source": [
    "Example neutron separation matrices and balanced accuracy score"
   ]
  },
  {
   "cell_type": "code",
   "execution_count": 10,
   "metadata": {},
   "outputs": [
    {
     "name": "stdout",
     "output_type": "stream",
     "text": [
      "200\n",
      "0.63498\n",
      "[[0.    0.115 0.009 0.001 0.    0.   ]\n",
      " [0.    0.842 0.213 0.03  0.002 0.   ]\n",
      " [0.    0.043 0.682 0.267 0.057 0.007]\n",
      " [0.    0.    0.097 0.577 0.308 0.079]\n",
      " [0.    0.    0.    0.123 0.492 0.332]\n",
      " [0.    0.    0.    0.001 0.141 0.583]]\n",
      "600\n",
      "0.64896\n",
      "[[0.    0.056 0.003 0.    0.    0.   ]\n",
      " [0.    0.813 0.137 0.014 0.001 0.   ]\n",
      " [0.    0.131 0.734 0.236 0.042 0.006]\n",
      " [0.    0.    0.127 0.65  0.334 0.084]\n",
      " [0.    0.    0.    0.099 0.541 0.403]\n",
      " [0.    0.    0.    0.    0.081 0.507]]\n",
      "1000\n",
      "0.6693200000000001\n",
      "[[0.    0.04  0.001 0.    0.    0.   ]\n",
      " [0.    0.811 0.109 0.011 0.001 0.   ]\n",
      " [0.    0.149 0.769 0.211 0.035 0.005]\n",
      " [0.    0.    0.121 0.697 0.332 0.082]\n",
      " [0.    0.    0.    0.082 0.577 0.421]\n",
      " [0.    0.    0.    0.    0.054 0.492]]\n"
     ]
    },
    {
     "name": "stderr",
     "output_type": "stream",
     "text": [
      "/home/jmayer/.pyenv/versions/3.7.6/lib/python3.7/site-packages/sklearn/metrics/_classification.py:1859: UserWarning: y_pred contains classes not in y_true\n",
      "  warnings.warn('y_pred contains classes not in y_true')\n"
     ]
    }
   ],
   "source": [
    "from sklearn.metrics import (\n",
    "    balanced_accuracy_score,\n",
    "    confusion_matrix,\n",
    "    plot_confusion_matrix,\n",
    ")\n",
    "\n",
    "np.set_printoptions(precision=3)\n",
    "np.set_printoptions(suppress=True)\n",
    "\n",
    "out = []\n",
    "for energy, df in data.items():\n",
    "    print(energy)\n",
    "    y_true = df[[\"nIn\"]].values.ravel()\n",
    "    y_pred = df[[\"mult\"]].values.ravel()\n",
    "\n",
    "    bac = balanced_accuracy_score(y_true, y_pred)\n",
    "    print(bac)\n",
    "    # cm = confusion_matrix(y_true, y_pred, labels=range(0, 6))\n",
    "    # print(np.swapaxes(cm, 0, 1))\n",
    "    cmrel = confusion_matrix(y_true, y_pred, labels=range(0, 6), normalize=\"true\")\n",
    "    cmrel = np.swapaxes(cmrel, 0, 1)\n",
    "    print(cmrel)\n",
    "    out.append([energy, bac, cmrel])"
   ]
  },
  {
   "cell_type": "markdown",
   "metadata": {},
   "source": [
    "Create a Latex file with the multiplicity matrices for use in the paper"
   ]
  },
  {
   "cell_type": "code",
   "execution_count": 11,
   "metadata": {},
   "outputs": [],
   "source": [
    "def to_tabular(energy, bac, cm):\n",
    "    text = \"\"\"\\\\resizebox{0.32\\\\textwidth}{!}{\n",
    "\\\\begin{tabular}{cc|S[table-format=2]S[table-format=2]S[table-format=2]S[table-format=2]S[table-format=2]}\n",
    "\\\\toprule\n",
    "\\\\multicolumn{2}{c|}{\"\"\" + str(energy) + \"\"\"} & \\\\multicolumn{5}{c}{generated} \\\\\\\\\n",
    "\\\\multicolumn{2}{c|}{\"\"\" + str(\"MeV\") + \"\"\"} & 1 & 2 & 3 & 4 & 5 \\\\\\\\\n",
    "\\\\midrule\n",
    "\\\\multirow{6}{*}{\\\\rotatebox[origin=c]{90}{detected}}\n",
    "\"\"\"\n",
    "    for i, a in enumerate(cm):\n",
    "        text += \" & \" +  str(i)\n",
    "        # text += \" & \".join([ for x in a[1:]])\n",
    "        for j, x in enumerate(a[1:]):\n",
    "            if j == i - 1: \n",
    "                text += \" & \\\\textbf{\" + str(int(round(x*100))) + \"}\"\n",
    "            else:\n",
    "                text += \" & \" + str(int(round(x*100)))\n",
    "        text += \" \\\\\\\\\\n\"\n",
    "    text += \"\"\"\\\\bottomrule\n",
    "\\\\end{tabular}}\"\"\"\n",
    "    return text"
   ]
  },
  {
   "cell_type": "code",
   "execution_count": 12,
   "metadata": {},
   "outputs": [],
   "source": [
    "def to_full_latex(data):\n",
    "    text = \"\"\"\\\\documentclass{{scrartcl}}\n",
    "\\\\usepackage{booktabs}\n",
    "\\\\usepackage{siunitx}\n",
    "\\\\usepackage{multirow}\n",
    "\\\\usepackage{graphicx}\n",
    "\\\\begin{document}\n",
    "\\\\begin{table}\n",
    "\"\"\"\n",
    "    text += f\"\"\"\\\\captionabove[Neutron separation matrices for multiplicities of 1 to {nmax} neutrons]{{\n",
    "Neutron separation matrices for multiplicities of 1 to {nmax} neutrons.\n",
    "Columns display the neutron multiplicity simulated, rows the neutron multiplicity derived from the calorimetric neutron tracking algorithm.\n",
    "Values are given in percent.\n",
    "Neutrons were simulated with 200 (left), 600 (center) and 1000 MeV (right matrix).\n",
    "NeuLAND with {doubleplane} doubleplanes was located at a distance of {distance} m to the target.\n",
    "Neutrons were generated with a relative energy of {erel} keV with respect to a medium heavy projectile fragment.\n",
    "The distance between target and NeuLAND was filled with {scenario}.\n",
    "Simulated with Geant4 using the \\\\texttt{{QGSP\\\\_{physics.upper()}\\\\_HP}} physics list.\n",
    "\\\\label{{tab:neutron-separation-matrices}}}}\n",
    "\"\"\"\n",
    "    for o in out:\n",
    "        text += to_tabular(*o) + \"\\n\"\n",
    "    text += \"\"\"\\\\end{table}\n",
    "\\\\end{document}\n",
    "\"\"\"\n",
    "    return text"
   ]
  },
  {
   "cell_type": "code",
   "execution_count": 13,
   "metadata": {},
   "outputs": [
    {
     "name": "stdout",
     "output_type": "stream",
     "text": [
      "\\documentclass{{scrartcl}}\n",
      "\\usepackage{booktabs}\n",
      "\\usepackage{siunitx}\n",
      "\\usepackage{multirow}\n",
      "\\usepackage{graphicx}\n",
      "\\begin{document}\n",
      "\\begin{table}\n",
      "\\captionabove[Neutron separation matrices for multiplicities of 1 to 5 neutrons]{\n",
      "Neutron separation matrices for multiplicities of 1 to 5 neutrons.\n",
      "Columns display the neutron multiplicity simulated, rows the neutron multiplicity derived from the calorimetric neutron tracking algorithm.\n",
      "Values are given in percent.\n",
      "Neutrons were simulated with 200 (left), 600 (center) and 1000 MeV (right matrix).\n",
      "NeuLAND with 30 doubleplanes was located at a distance of 15 m to the target.\n",
      "Neutrons were generated with a relative energy of 500 keV with respect to a medium heavy projectile fragment.\n",
      "The distance between target and NeuLAND was filled with air.\n",
      "Simulated with Geant4 using the \\texttt{QGSP\\_INCLXX\\_HP} physics list.\n",
      "\\label{tab:neutron-separation-matrices}}\n",
      "\\resizebox{0.32\\textwidth}{!}{\n",
      "\\begin{tabular}{cc|S[table-format=2]S[table-format=2]S[table-format=2]S[table-format=2]S[table-format=2]}\n",
      "\\toprule\n",
      "\\multicolumn{2}{c|}{200} & \\multicolumn{5}{c}{generated} \\\\\n",
      "\\multicolumn{2}{c|}{MeV} & 1 & 2 & 3 & 4 & 5 \\\\\n",
      "\\midrule\n",
      "\\multirow{6}{*}{\\rotatebox[origin=c]{90}{detected}}\n",
      " & 0 & 11 & 1 & 0 & 0 & 0 \\\\\n",
      " & 1 & \\textbf{84} & 21 & 3 & 0 & 0 \\\\\n",
      " & 2 & 4 & \\textbf{68} & 27 & 6 & 1 \\\\\n",
      " & 3 & 0 & 10 & \\textbf{58} & 31 & 8 \\\\\n",
      " & 4 & 0 & 0 & 12 & \\textbf{49} & 33 \\\\\n",
      " & 5 & 0 & 0 & 0 & 14 & \\textbf{58} \\\\\n",
      "\\bottomrule\n",
      "\\end{tabular}}\n",
      "\\resizebox{0.32\\textwidth}{!}{\n",
      "\\begin{tabular}{cc|S[table-format=2]S[table-format=2]S[table-format=2]S[table-format=2]S[table-format=2]}\n",
      "\\toprule\n",
      "\\multicolumn{2}{c|}{600} & \\multicolumn{5}{c}{generated} \\\\\n",
      "\\multicolumn{2}{c|}{MeV} & 1 & 2 & 3 & 4 & 5 \\\\\n",
      "\\midrule\n",
      "\\multirow{6}{*}{\\rotatebox[origin=c]{90}{detected}}\n",
      " & 0 & 6 & 0 & 0 & 0 & 0 \\\\\n",
      " & 1 & \\textbf{81} & 14 & 1 & 0 & 0 \\\\\n",
      " & 2 & 13 & \\textbf{73} & 24 & 4 & 1 \\\\\n",
      " & 3 & 0 & 13 & \\textbf{65} & 33 & 8 \\\\\n",
      " & 4 & 0 & 0 & 10 & \\textbf{54} & 40 \\\\\n",
      " & 5 & 0 & 0 & 0 & 8 & \\textbf{51} \\\\\n",
      "\\bottomrule\n",
      "\\end{tabular}}\n",
      "\\resizebox{0.32\\textwidth}{!}{\n",
      "\\begin{tabular}{cc|S[table-format=2]S[table-format=2]S[table-format=2]S[table-format=2]S[table-format=2]}\n",
      "\\toprule\n",
      "\\multicolumn{2}{c|}{1000} & \\multicolumn{5}{c}{generated} \\\\\n",
      "\\multicolumn{2}{c|}{MeV} & 1 & 2 & 3 & 4 & 5 \\\\\n",
      "\\midrule\n",
      "\\multirow{6}{*}{\\rotatebox[origin=c]{90}{detected}}\n",
      " & 0 & 4 & 0 & 0 & 0 & 0 \\\\\n",
      " & 1 & \\textbf{81} & 11 & 1 & 0 & 0 \\\\\n",
      " & 2 & 15 & \\textbf{77} & 21 & 4 & 0 \\\\\n",
      " & 3 & 0 & 12 & \\textbf{70} & 33 & 8 \\\\\n",
      " & 4 & 0 & 0 & 8 & \\textbf{58} & 42 \\\\\n",
      " & 5 & 0 & 0 & 0 & 5 & \\textbf{49} \\\\\n",
      "\\bottomrule\n",
      "\\end{tabular}}\n",
      "\\end{table}\n",
      "\\end{document}\n",
      "\n"
     ]
    },
    {
     "data": {
      "text/plain": [
       "0"
      ]
     },
     "execution_count": 13,
     "metadata": {},
     "output_type": "execute_result"
    }
   ],
   "source": [
    "latex = to_full_latex(out)\n",
    "print(latex)\n",
    "with open(\"paper/mult.tex\", \"w\") as f:\n",
    "    f.write(latex)\n",
    "subprocess.call([\"lualatex\", \"mult.tex\"], cwd=\"paper\", stdout=subprocess.DEVNULL)"
   ]
  },
  {
   "cell_type": "code",
   "execution_count": null,
   "metadata": {},
   "outputs": [],
   "source": []
  }
 ],
 "metadata": {
  "kernelspec": {
   "display_name": "Python 3",
   "language": "python",
   "name": "python3"
  },
  "language_info": {
   "codemirror_mode": {
    "name": "ipython",
    "version": 3
   },
   "file_extension": ".py",
   "mimetype": "text/x-python",
   "name": "python",
   "nbconvert_exporter": "python",
   "pygments_lexer": "ipython3",
   "version": "3.7.6"
  }
 },
 "nbformat": 4,
 "nbformat_minor": 4
}
