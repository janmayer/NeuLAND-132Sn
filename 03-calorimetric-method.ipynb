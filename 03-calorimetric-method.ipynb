{
 "cells": [
  {
   "cell_type": "markdown",
   "metadata": {},
   "source": [
    "# Step 3: Train and evaluate the Calorimetric method"
   ]
  },
  {
   "cell_type": "code",
   "execution_count": 1,
   "metadata": {},
   "outputs": [],
   "source": [
    "distances = [15, 35]\n",
    "doubleplanes = [8, 12, 20, 30]\n",
    "energies = [200, 600, 1000]\n",
    "erels = [100, 500, 1000, 2000, 3000]\n",
    "neutrons = [1, 2, 3, 4, 5, 6]\n",
    "physicss = [\"bert\", \"bic\", \"inclxx\"]"
   ]
  },
  {
   "cell_type": "markdown",
   "metadata": {},
   "source": [
    "## a) Train calorimetric method for all settings"
   ]
  },
  {
   "cell_type": "code",
   "execution_count": 2,
   "metadata": {},
   "outputs": [
    {
     "name": "stdout",
     "output_type": "stream",
     "text": [
      "Welcome to JupyROOT 6.16/00\n"
     ]
    }
   ],
   "source": [
    "import os\n",
    "import wurlitzer\n",
    "import joblib\n",
    "from helpers import filename_for\n",
    "import ROOT"
   ]
  },
  {
   "cell_type": "code",
   "execution_count": 3,
   "metadata": {},
   "outputs": [],
   "source": [
    "ROOT.ROOT.EnableThreadSafety()\n",
    "ROOT.FairLogger.GetLogger().SetLogVerbosityLevel(\"LOW\")\n",
    "ROOT.FairLogger.GetLogger().SetLogScreenLevel(\"WARNING\")\n",
    "ROOT.gROOT.SetBatch(True)"
   ]
  },
  {
   "cell_type": "code",
   "execution_count": 4,
   "metadata": {},
   "outputs": [],
   "source": [
    "def calibr(distance, doubleplane, energy, erel, nmax, physics):\n",
    "    outfile = filename_for(\n",
    "        distance, doubleplane, energy, erel, nmax, physics, \".ncut.root\"\n",
    "    )\n",
    "    logfile = filename_for(\n",
    "        distance, doubleplane, energy, erel, nmax, physics, \".ncut.log\"\n",
    "    )\n",
    "\n",
    "    if os.path.exists(outfile):\n",
    "        os.remove(outfile)\n",
    "\n",
    "    # Write all output to a log file\n",
    "    with open(logfile, \"w\") as log, wurlitzer.pipes(\n",
    "        stdout=log, stderr=wurlitzer.STDOUT\n",
    "    ):\n",
    "        cal = ROOT.Neuland.Neutron2DCalibr(nmax)\n",
    "        for neutron in range(1, nmax + 1):\n",
    "            digifile = filename_for(\n",
    "                distance, doubleplane, energy, erel, neutron, physics, \".digi.root\"\n",
    "            )\n",
    "            cal.AddClusterFile(digifile)\n",
    "\n",
    "        # Starting parameters (double val, double step, double lower, double upper)\n",
    "        vslope = ROOT.std.vector(\"double\")()\n",
    "        vslope += [0.04, 0.001, 0.001, 10]\n",
    "        vdistance = ROOT.std.vector(\"double\")()\n",
    "        vdistance += [energy / 20.0, energy / 100.0, energy / 100.0, energy]\n",
    "        vdist_off = ROOT.std.vector(\"double\")()\n",
    "        vdist_off += [3, 0.5, 3, 6]\n",
    "\n",
    "        # Create Cuts\n",
    "        cal.Optimize(vslope, vdistance, vdist_off)\n",
    "\n",
    "        # Write the output files (root, dat, pdf)\n",
    "        cal.WriteParameterFile(outfile)\n",
    "        o = ROOT.std.ofstream(outfile.replace(\".root\", \".dat\"))\n",
    "        cal.Print(o)\n",
    "        cal.Draw(outfile.replace(\".root\", \".pdf\"))\n",
    "        del cal"
   ]
  },
  {
   "cell_type": "code",
   "execution_count": 5,
   "metadata": {},
   "outputs": [
    {
     "name": "stderr",
     "output_type": "stream",
     "text": [
      "[Parallel(n_jobs=-1)]: Using backend MultiprocessingBackend with 56 concurrent workers.\n",
      "[Parallel(n_jobs=-1)]: Done  88 tasks      | elapsed:   14.7s\n",
      "[Parallel(n_jobs=-1)]: Done 338 tasks      | elapsed:   45.8s\n",
      "[Parallel(n_jobs=-1)]: Done 688 tasks      | elapsed:  2.7min\n",
      "[Parallel(n_jobs=-1)]: Done 1138 tasks      | elapsed:  7.2min\n",
      "[Parallel(n_jobs=-1)]: Done 1688 tasks      | elapsed:  8.9min\n",
      "[Parallel(n_jobs=-1)]: Done 2160 out of 2160 | elapsed: 13.8min finished\n"
     ]
    }
   ],
   "source": [
    "joblib.Parallel(n_jobs=-1, backend=\"multiprocessing\", verbose=1)(\n",
    "    joblib.delayed(calibr)(\n",
    "        distance=distance,\n",
    "        doubleplane=doubleplane,\n",
    "        energy=energy,\n",
    "        erel=erel,\n",
    "        nmax=neutron,\n",
    "        physics=physics,\n",
    "    )\n",
    "    for distance in distances\n",
    "    for energy in energies\n",
    "    for doubleplane in doubleplanes\n",
    "    for neutron in neutrons\n",
    "    for erel in erels\n",
    "    for physics in physicss\n",
    ");"
   ]
  },
  {
   "cell_type": "markdown",
   "metadata": {},
   "source": [
    "## b) Apply cuts to a setting and evaluate performance"
   ]
  },
  {
   "cell_type": "code",
   "execution_count": 5,
   "metadata": {},
   "outputs": [],
   "source": [
    "import numpy as np\n",
    "import pandas as pd"
   ]
  },
  {
   "cell_type": "markdown",
   "metadata": {},
   "source": [
    "For each event, apply the cuts and list the predicted multiplicity along with the number of incoming neutrons, the number of primary points, etc."
   ]
  },
  {
   "cell_type": "code",
   "execution_count": 6,
   "metadata": {},
   "outputs": [],
   "source": [
    "def neuland_calorimetric_data(distance, doubleplane, energy, erel, nmax, physics):\n",
    "    ncutfile = filename_for(\n",
    "        distance, doubleplane, energy, erel, nmax, physics, \".ncut.root\"\n",
    "    )\n",
    "    file = ROOT.TFile.Open(ncutfile)\n",
    "    para = file.Get(\"R3BNeulandNeutron2DPar\")\n",
    "\n",
    "    data = []\n",
    "    num_ex = 0\n",
    "    for neutron in range(1, nmax + 1):\n",
    "        digifile = filename_for(\n",
    "            distance, doubleplane, energy, erel, neutron, physics, \".digi.root\"\n",
    "        )\n",
    "        tfile = ROOT.TFile.Open(digifile)\n",
    "        ttree = tfile.Get(\"evt\")\n",
    "        for event in ttree:\n",
    "            # nPN: Number of incoming primary neutrons\n",
    "            nIn = neutron\n",
    "            # nPP: Number of primary neutrons with an energy deposition in NeuLAND\n",
    "            nPP = event.NeulandPrimaryPoints.GetEntries()\n",
    "            # nPH: Number of hits that correspond to a energy deposition of a primary neutron\n",
    "            nPH = event.NeulandPrimaryHits.GetEntries()\n",
    "            # nHits: Number of hits\n",
    "            num_hits = event.NeulandHits.GetEntries()\n",
    "            # nClus: Number of clusters\n",
    "            num_clusters = event.NeulandClusters.GetEntries()\n",
    "            # Edep: Total deposited (detected) energy\n",
    "            try:\n",
    "                edep = round(sum([hit.GetE() for hit in event.NeulandHits]))\n",
    "            except:\n",
    "                num_ex += 1\n",
    "                edep = 0\n",
    "\n",
    "            # Use calibrated calorimetric method (R3BNeulandNeutron2DPar) from the parameter file\n",
    "            # to predict the multiplicity\n",
    "            mult = para.GetNeutronMultiplicity(edep, num_clusters)\n",
    "\n",
    "            data.append([nIn, nPP, nPH, num_hits, num_clusters, edep, mult])\n",
    "    datapd = pd.DataFrame(data)\n",
    "    datapd.columns = [\"nIn\", \"nPP\", \"nPH\", \"num_hits\", \"num_cluster\", \"edep\", \"mult\"]\n",
    "    return datapd"
   ]
  },
  {
   "cell_type": "code",
   "execution_count": 7,
   "metadata": {},
   "outputs": [
    {
     "data": {
      "text/html": [
       "<div>\n",
       "<style scoped>\n",
       "    .dataframe tbody tr th:only-of-type {\n",
       "        vertical-align: middle;\n",
       "    }\n",
       "\n",
       "    .dataframe tbody tr th {\n",
       "        vertical-align: top;\n",
       "    }\n",
       "\n",
       "    .dataframe thead th {\n",
       "        text-align: right;\n",
       "    }\n",
       "</style>\n",
       "<table border=\"1\" class=\"dataframe\">\n",
       "  <thead>\n",
       "    <tr style=\"text-align: right;\">\n",
       "      <th></th>\n",
       "      <th>nIn</th>\n",
       "      <th>nPP</th>\n",
       "      <th>nPH</th>\n",
       "      <th>num_hits</th>\n",
       "      <th>num_cluster</th>\n",
       "      <th>edep</th>\n",
       "      <th>mult</th>\n",
       "    </tr>\n",
       "  </thead>\n",
       "  <tbody>\n",
       "    <tr>\n",
       "      <th>0</th>\n",
       "      <td>1</td>\n",
       "      <td>1</td>\n",
       "      <td>1</td>\n",
       "      <td>8</td>\n",
       "      <td>2</td>\n",
       "      <td>203</td>\n",
       "      <td>1</td>\n",
       "    </tr>\n",
       "    <tr>\n",
       "      <th>1</th>\n",
       "      <td>1</td>\n",
       "      <td>1</td>\n",
       "      <td>1</td>\n",
       "      <td>12</td>\n",
       "      <td>1</td>\n",
       "      <td>320</td>\n",
       "      <td>1</td>\n",
       "    </tr>\n",
       "    <tr>\n",
       "      <th>2</th>\n",
       "      <td>1</td>\n",
       "      <td>1</td>\n",
       "      <td>1</td>\n",
       "      <td>13</td>\n",
       "      <td>6</td>\n",
       "      <td>287</td>\n",
       "      <td>1</td>\n",
       "    </tr>\n",
       "    <tr>\n",
       "      <th>3</th>\n",
       "      <td>1</td>\n",
       "      <td>1</td>\n",
       "      <td>1</td>\n",
       "      <td>12</td>\n",
       "      <td>5</td>\n",
       "      <td>317</td>\n",
       "      <td>1</td>\n",
       "    </tr>\n",
       "    <tr>\n",
       "      <th>4</th>\n",
       "      <td>1</td>\n",
       "      <td>1</td>\n",
       "      <td>1</td>\n",
       "      <td>14</td>\n",
       "      <td>8</td>\n",
       "      <td>287</td>\n",
       "      <td>1</td>\n",
       "    </tr>\n",
       "    <tr>\n",
       "      <th>...</th>\n",
       "      <td>...</td>\n",
       "      <td>...</td>\n",
       "      <td>...</td>\n",
       "      <td>...</td>\n",
       "      <td>...</td>\n",
       "      <td>...</td>\n",
       "      <td>...</td>\n",
       "    </tr>\n",
       "    <tr>\n",
       "      <th>49995</th>\n",
       "      <td>5</td>\n",
       "      <td>5</td>\n",
       "      <td>5</td>\n",
       "      <td>29</td>\n",
       "      <td>17</td>\n",
       "      <td>693</td>\n",
       "      <td>3</td>\n",
       "    </tr>\n",
       "    <tr>\n",
       "      <th>49996</th>\n",
       "      <td>5</td>\n",
       "      <td>5</td>\n",
       "      <td>5</td>\n",
       "      <td>68</td>\n",
       "      <td>13</td>\n",
       "      <td>981</td>\n",
       "      <td>3</td>\n",
       "    </tr>\n",
       "    <tr>\n",
       "      <th>49997</th>\n",
       "      <td>5</td>\n",
       "      <td>4</td>\n",
       "      <td>4</td>\n",
       "      <td>46</td>\n",
       "      <td>25</td>\n",
       "      <td>771</td>\n",
       "      <td>3</td>\n",
       "    </tr>\n",
       "    <tr>\n",
       "      <th>49998</th>\n",
       "      <td>5</td>\n",
       "      <td>5</td>\n",
       "      <td>5</td>\n",
       "      <td>67</td>\n",
       "      <td>29</td>\n",
       "      <td>991</td>\n",
       "      <td>4</td>\n",
       "    </tr>\n",
       "    <tr>\n",
       "      <th>49999</th>\n",
       "      <td>5</td>\n",
       "      <td>5</td>\n",
       "      <td>5</td>\n",
       "      <td>93</td>\n",
       "      <td>37</td>\n",
       "      <td>1615</td>\n",
       "      <td>5</td>\n",
       "    </tr>\n",
       "  </tbody>\n",
       "</table>\n",
       "<p>50000 rows × 7 columns</p>\n",
       "</div>"
      ],
      "text/plain": [
       "       nIn  nPP  nPH  num_hits  num_cluster  edep  mult\n",
       "0        1    1    1         8            2   203     1\n",
       "1        1    1    1        12            1   320     1\n",
       "2        1    1    1        13            6   287     1\n",
       "3        1    1    1        12            5   317     1\n",
       "4        1    1    1        14            8   287     1\n",
       "...    ...  ...  ...       ...          ...   ...   ...\n",
       "49995    5    5    5        29           17   693     3\n",
       "49996    5    5    5        68           13   981     3\n",
       "49997    5    4    4        46           25   771     3\n",
       "49998    5    5    5        67           29   991     4\n",
       "49999    5    5    5        93           37  1615     5\n",
       "\n",
       "[50000 rows x 7 columns]"
      ]
     },
     "metadata": {},
     "output_type": "display_data"
    }
   ],
   "source": [
    "distance = 15\n",
    "doubleplane = 30\n",
    "erel = 500\n",
    "nmax = 5\n",
    "physics = \"inclxx\"\n",
    "\n",
    "data = {\n",
    "    energy: neuland_calorimetric_data(\n",
    "        distance, doubleplane, energy, erel, nmax, physics\n",
    "    )\n",
    "    for energy in [200, 600, 1000]\n",
    "}\n",
    "\n",
    "pd.options.display.max_rows = 20\n",
    "display(data[600])"
   ]
  },
  {
   "cell_type": "markdown",
   "metadata": {},
   "source": [
    "Annotate the image created by the calibration. Ready for use in the paper."
   ]
  },
  {
   "cell_type": "code",
   "execution_count": 8,
   "metadata": {},
   "outputs": [
    {
     "data": {
      "text/plain": [
       "0"
      ]
     },
     "execution_count": 8,
     "metadata": {},
     "output_type": "execute_result"
    }
   ],
   "source": [
    "import shutil\n",
    "import subprocess\n",
    "\n",
    "energy = 600\n",
    "ncutpdf = filename_for(distance, doubleplane, energy, erel, nmax, physics, \".ncut.pdf\")\n",
    "shutil.copyfile(ncutpdf, ncutpdf.replace(f\"output/{physics}/\", \"paper/\"))\n",
    "subprocess.call([\"lualatex\", \"calibr.tex\"], cwd=\"paper\", stdout=subprocess.DEVNULL)"
   ]
  },
  {
   "cell_type": "markdown",
   "metadata": {},
   "source": [
    "Example neutron separation matrices and balanced accuracy score"
   ]
  },
  {
   "cell_type": "code",
   "execution_count": 9,
   "metadata": {},
   "outputs": [
    {
     "name": "stdout",
     "output_type": "stream",
     "text": [
      "200\n",
      "0.6133599999999999\n",
      "[[0.    0.13  0.011 0.001 0.    0.   ]\n",
      " [0.    0.821 0.231 0.036 0.005 0.001]\n",
      " [0.    0.049 0.659 0.287 0.065 0.013]\n",
      " [0.    0.    0.099 0.559 0.322 0.099]\n",
      " [0.    0.    0.    0.115 0.484 0.344]\n",
      " [0.    0.    0.    0.001 0.124 0.544]]\n",
      "600\n",
      "0.62544\n",
      "[[0.    0.069 0.005 0.    0.    0.   ]\n",
      " [0.    0.811 0.158 0.02  0.002 0.   ]\n",
      " [0.    0.12  0.727 0.263 0.055 0.009]\n",
      " [0.    0.    0.11  0.63  0.371 0.112]\n",
      " [0.    0.    0.    0.085 0.508 0.429]\n",
      " [0.    0.    0.    0.    0.064 0.45 ]]\n",
      "1000\n",
      "0.63916\n",
      "[[0.    0.052 0.003 0.    0.    0.   ]\n",
      " [0.    0.781 0.133 0.014 0.001 0.   ]\n",
      " [0.    0.158 0.735 0.238 0.046 0.006]\n",
      " [0.    0.003 0.119 0.659 0.346 0.101]\n",
      " [0.    0.003 0.004 0.081 0.547 0.42 ]\n",
      " [0.    0.004 0.006 0.008 0.059 0.473]]\n"
     ]
    },
    {
     "name": "stderr",
     "output_type": "stream",
     "text": [
      "/home/jmayer/.pyenv/versions/3.7.6/lib/python3.7/site-packages/sklearn/metrics/_classification.py:1859: UserWarning: y_pred contains classes not in y_true\n",
      "  warnings.warn('y_pred contains classes not in y_true')\n"
     ]
    }
   ],
   "source": [
    "from sklearn.metrics import (\n",
    "    balanced_accuracy_score,\n",
    "    confusion_matrix,\n",
    "    plot_confusion_matrix,\n",
    ")\n",
    "\n",
    "np.set_printoptions(precision=3)\n",
    "np.set_printoptions(suppress=True)\n",
    "\n",
    "out = []\n",
    "for energy, df in data.items():\n",
    "    print(energy)\n",
    "    y_true = df[[\"nIn\"]].values.ravel()\n",
    "    y_pred = df[[\"mult\"]].values.ravel()\n",
    "\n",
    "    bac = balanced_accuracy_score(y_true, y_pred)\n",
    "    print(bac)\n",
    "    # cm = confusion_matrix(y_true, y_pred, labels=range(0, 6))\n",
    "    # print(np.swapaxes(cm, 0, 1))\n",
    "    cmrel = confusion_matrix(y_true, y_pred, labels=range(0, 6), normalize=\"true\")\n",
    "    cmrel = np.swapaxes(cmrel, 0, 1)\n",
    "    print(cmrel)\n",
    "    out.append([energy, bac, cmrel])"
   ]
  },
  {
   "cell_type": "markdown",
   "metadata": {},
   "source": [
    "Create a Latex file with the multiplicity matrices for use in the paper"
   ]
  },
  {
   "cell_type": "code",
   "execution_count": 10,
   "metadata": {},
   "outputs": [],
   "source": [
    "def to_tabular(energy, bac, cm):\n",
    "    text = (\n",
    "        \"\"\"\\\\resizebox{0.32\\\\textwidth}{!}{\n",
    "\\\\begin{tabular}{cc|S[table-format=2]S[table-format=2]S[table-format=2]S[table-format=2]S[table-format=2]}\n",
    "\\\\toprule\n",
    "\\\\multicolumn{2}{c|}{\"\"\"\n",
    "        + str(energy)\n",
    "        + \"\"\"} & \\\\multicolumn{5}{c}{generated} \\\\\\\\\n",
    "\\\\multicolumn{2}{c|}{\"\"\"\n",
    "        + str(\"MeV\")\n",
    "        + \"\"\"} & 1 & 2 & 3 & 4 & 5 \\\\\\\\\n",
    "\\\\midrule\n",
    "\\\\multirow{6}{*}{\\\\rotatebox[origin=c]{90}{detected}}\n",
    "\"\"\"\n",
    "    )\n",
    "    for i, a in enumerate(cm[:nmax+1]):\n",
    "        text += \" & \" + str(i)\n",
    "        # text += \" & \".join([ for x in a[1:]])\n",
    "        for j, x in enumerate(a[1:nmax+1]):\n",
    "            if j == i - 1:\n",
    "                text += \" & \\\\textbf{\" + str(int(round(x * 100))) + \"}\"\n",
    "            else:\n",
    "                text += \" & \" + str(int(round(x * 100)))\n",
    "        text += \" \\\\\\\\\\n\"\n",
    "    text += \"\"\"\\\\bottomrule\n",
    "\\\\end{tabular}}\"\"\"\n",
    "    return text"
   ]
  },
  {
   "cell_type": "code",
   "execution_count": 11,
   "metadata": {},
   "outputs": [],
   "source": [
    "def to_full_latex(data):\n",
    "    text = \"\"\"\\\\documentclass{{scrartcl}}\n",
    "\\\\usepackage{booktabs}\n",
    "\\\\usepackage{siunitx}\n",
    "\\\\usepackage{multirow}\n",
    "\\\\usepackage{graphicx}\n",
    "\\\\begin{document}\n",
    "\\\\begin{table}\n",
    "\"\"\"\n",
    "    text += f\"\"\"\\\\captionabove[Neutron separation matrices for multiplicities of 1 to {nmax} neutrons]{{\n",
    "Neutron separation matrices for multiplicities of 1 to {nmax} neutrons.\n",
    "Columns display the neutron multiplicity simulated, rows the neutron multiplicity derived from the calorimetric neutron tracking algorithm.\n",
    "Values are given in percent.\n",
    "Neutrons were simulated with 200 (left), 600 (center) and 1000 MeV (right matrix).\n",
    "NeuLAND with {doubleplane} doubleplanes was located at a distance of {distance} m to the target.\n",
    "Neutrons were generated with a relative energy of {erel} keV with respect to a medium heavy projectile fragment.\n",
    "The distance between target and NeuLAND was filled with air and a 4\\\\,mm steel window.\n",
    "Simulated with Geant4 using the \\\\texttt{{QGSP\\\\_{physics.upper()}\\\\_HP}} physics list.\n",
    "Note that other maximum multiplicities will result in different efficiencies.\n",
    "\\\\label{{tab:neutron-separation-matrices}}}}\n",
    "\"\"\"\n",
    "    for o in out:\n",
    "        text += to_tabular(*o) + \"\\n\"\n",
    "    text += \"\"\"\\\\end{table}\n",
    "\\\\end{document}\n",
    "\"\"\"\n",
    "    return text"
   ]
  },
  {
   "cell_type": "code",
   "execution_count": 12,
   "metadata": {},
   "outputs": [
    {
     "name": "stdout",
     "output_type": "stream",
     "text": [
      "\\documentclass{{scrartcl}}\n",
      "\\usepackage{booktabs}\n",
      "\\usepackage{siunitx}\n",
      "\\usepackage{multirow}\n",
      "\\usepackage{graphicx}\n",
      "\\begin{document}\n",
      "\\begin{table}\n",
      "\\captionabove[Neutron separation matrices for multiplicities of 1 to 5 neutrons]{\n",
      "Neutron separation matrices for multiplicities of 1 to 5 neutrons.\n",
      "Columns display the neutron multiplicity simulated, rows the neutron multiplicity derived from the calorimetric neutron tracking algorithm.\n",
      "Values are given in percent.\n",
      "Neutrons were simulated with 200 (left), 600 (center) and 1000 MeV (right matrix).\n",
      "NeuLAND with 30 doubleplanes was located at a distance of 15 m to the target.\n",
      "Neutrons were generated with a relative energy of 500 keV with respect to a medium heavy projectile fragment.\n",
      "The distance between target and NeuLAND was filled with air and a 4\\,mm steel window.\n",
      "Simulated with Geant4 using the \\texttt{QGSP\\_INCLXX\\_HP} physics list.\n",
      "Note that other maximum multiplicities will result in different efficiencies.\n",
      "\\label{tab:neutron-separation-matrices}}\n",
      "\\resizebox{0.32\\textwidth}{!}{\n",
      "\\begin{tabular}{cc|S[table-format=2]S[table-format=2]S[table-format=2]S[table-format=2]S[table-format=2]}\n",
      "\\toprule\n",
      "\\multicolumn{2}{c|}{200} & \\multicolumn{5}{c}{generated} \\\\\n",
      "\\multicolumn{2}{c|}{MeV} & 1 & 2 & 3 & 4 & 5 \\\\\n",
      "\\midrule\n",
      "\\multirow{6}{*}{\\rotatebox[origin=c]{90}{detected}}\n",
      " & 0 & 13 & 1 & 0 & 0 & 0 \\\\\n",
      " & 1 & \\textbf{82} & 23 & 4 & 0 & 0 \\\\\n",
      " & 2 & 5 & \\textbf{66} & 29 & 7 & 1 \\\\\n",
      " & 3 & 0 & 10 & \\textbf{56} & 32 & 10 \\\\\n",
      " & 4 & 0 & 0 & 12 & \\textbf{48} & 34 \\\\\n",
      " & 5 & 0 & 0 & 0 & 12 & \\textbf{54} \\\\\n",
      "\\bottomrule\n",
      "\\end{tabular}}\n",
      "\\resizebox{0.32\\textwidth}{!}{\n",
      "\\begin{tabular}{cc|S[table-format=2]S[table-format=2]S[table-format=2]S[table-format=2]S[table-format=2]}\n",
      "\\toprule\n",
      "\\multicolumn{2}{c|}{600} & \\multicolumn{5}{c}{generated} \\\\\n",
      "\\multicolumn{2}{c|}{MeV} & 1 & 2 & 3 & 4 & 5 \\\\\n",
      "\\midrule\n",
      "\\multirow{6}{*}{\\rotatebox[origin=c]{90}{detected}}\n",
      " & 0 & 7 & 0 & 0 & 0 & 0 \\\\\n",
      " & 1 & \\textbf{81} & 16 & 2 & 0 & 0 \\\\\n",
      " & 2 & 12 & \\textbf{73} & 26 & 6 & 1 \\\\\n",
      " & 3 & 0 & 11 & \\textbf{63} & 37 & 11 \\\\\n",
      " & 4 & 0 & 0 & 9 & \\textbf{51} & 43 \\\\\n",
      " & 5 & 0 & 0 & 0 & 6 & \\textbf{45} \\\\\n",
      "\\bottomrule\n",
      "\\end{tabular}}\n",
      "\\resizebox{0.32\\textwidth}{!}{\n",
      "\\begin{tabular}{cc|S[table-format=2]S[table-format=2]S[table-format=2]S[table-format=2]S[table-format=2]}\n",
      "\\toprule\n",
      "\\multicolumn{2}{c|}{1000} & \\multicolumn{5}{c}{generated} \\\\\n",
      "\\multicolumn{2}{c|}{MeV} & 1 & 2 & 3 & 4 & 5 \\\\\n",
      "\\midrule\n",
      "\\multirow{6}{*}{\\rotatebox[origin=c]{90}{detected}}\n",
      " & 0 & 5 & 0 & 0 & 0 & 0 \\\\\n",
      " & 1 & \\textbf{78} & 13 & 1 & 0 & 0 \\\\\n",
      " & 2 & 16 & \\textbf{74} & 24 & 5 & 1 \\\\\n",
      " & 3 & 0 & 12 & \\textbf{66} & 35 & 10 \\\\\n",
      " & 4 & 0 & 0 & 8 & \\textbf{55} & 42 \\\\\n",
      " & 5 & 0 & 1 & 1 & 6 & \\textbf{47} \\\\\n",
      "\\bottomrule\n",
      "\\end{tabular}}\n",
      "\\end{table}\n",
      "\\end{document}\n",
      "\n"
     ]
    },
    {
     "data": {
      "text/plain": [
       "0"
      ]
     },
     "execution_count": 12,
     "metadata": {},
     "output_type": "execute_result"
    }
   ],
   "source": [
    "latex = to_full_latex(out)\n",
    "print(latex)\n",
    "with open(f\"paper/mult{nmax}.tex\", \"w\") as f:\n",
    "    f.write(latex)\n",
    "subprocess.call([\"lualatex\", f\"mult{nmax}.tex\"], cwd=\"paper\", stdout=subprocess.DEVNULL)"
   ]
  },
  {
   "cell_type": "code",
   "execution_count": null,
   "metadata": {},
   "outputs": [],
   "source": []
  }
 ],
 "metadata": {
  "kernelspec": {
   "display_name": "Python 3",
   "language": "python",
   "name": "python3"
  },
  "language_info": {
   "codemirror_mode": {
    "name": "ipython",
    "version": 3
   },
   "file_extension": ".py",
   "mimetype": "text/x-python",
   "name": "python",
   "nbconvert_exporter": "python",
   "pygments_lexer": "ipython3",
   "version": "3.7.6"
  }
 },
 "nbformat": 4,
 "nbformat_minor": 4
}
